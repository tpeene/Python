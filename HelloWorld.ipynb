{
 "cells": [
  {
   "cell_type": "markdown",
   "metadata": {},
   "source": [
    "# Basics of Jupyter"
   ]
  },
  {
   "cell_type": "markdown",
   "metadata": {},
   "source": [
    "Type text.\n",
    "* Change Code/Markdown: press Escape, M (Markdown), Y (Code). Shift + Enter to go back to cell.\n",
    "* Show/hide result of code: press Escape, O.\n",
    "* Selecteer tekst om in comments te zetten. Press CONTROL + (toets /:). Tekst staat in comments.\n",
    "* RUN code = SHIFT + ENTER\n",
    "\n",
    "Python course: https://pythonprogramming.net/"
   ]
  },
  {
   "cell_type": "markdown",
   "metadata": {},
   "source": [
    "# 5 While loop"
   ]
  },
  {
   "cell_type": "code",
   "execution_count": 1,
   "metadata": {},
   "outputs": [
    {
     "name": "stdout",
     "output_type": "stream",
     "text": [
      "1\n",
      "2\n",
      "3\n",
      "4\n",
      "5\n",
      "6\n",
      "7\n",
      "8\n",
      "9\n"
     ]
    }
   ],
   "source": [
    "condition = 1 tralalal\n",
    "\n",
    "while condition < 10:\n",
    "\tprint(condition)\n",
    "\tcondition += 1"
   ]
  },
  {
   "cell_type": "markdown",
   "metadata": {},
   "source": [
    "Infinite loop:\n",
    "- interrupted by CONTROL+C"
   ]
  },
  {
   "cell_type": "code",
   "execution_count": null,
   "metadata": {},
   "outputs": [],
   "source": [
    "while True:\n",
    "    print('doing stuff')"
   ]
  },
  {
   "cell_type": "markdown",
   "metadata": {},
   "source": [
    "# 6 For loop"
   ]
  },
  {
   "cell_type": "code",
   "execution_count": null,
   "metadata": {},
   "outputs": [],
   "source": [
    "exampleList = [1,5,6,6,2,1,5,2,1,4]\n",
    "#exampleList2, var = [1,5,6,6,2,1,5,2,1,4]\n",
    "\n",
    "for eachNumber in exampleList:\n",
    "            print(eachNumber)\n",
    "            print('continue program')"
   ]
  },
  {
   "cell_type": "markdown",
   "metadata": {},
   "source": [
    "Data tussen [] constitueren een lijst."
   ]
  },
  {
   "cell_type": "code",
   "execution_count": null,
   "metadata": {},
   "outputs": [],
   "source": [
    "# As a counter\n",
    "for x in range (1,11): # print van 1 tem 10 -- in geval van groot getal: niet veel memory > gebruik van generator\n",
    "    print(x)"
   ]
  },
  {
   "cell_type": "code",
   "execution_count": null,
   "metadata": {},
   "outputs": [],
   "source": [
    "var1, var2 = [0,2] # unpacking variables\n",
    "print(var2)"
   ]
  },
  {
   "cell_type": "markdown",
   "metadata": {},
   "source": [
    "# If statement "
   ]
  },
  {
   "cell_type": "code",
   "execution_count": null,
   "metadata": {},
   "outputs": [],
   "source": [
    "if x > 55:\n",
    "    print('x is greater than 55')\n",
    "elif x < 2:\n",
    "    print('...')\n",
    "else:\n",
    "    print('x is not greater than 55')"
   ]
  },
  {
   "cell_type": "markdown",
   "metadata": {},
   "source": [
    "# Function"
   ]
  },
  {
   "cell_type": "code",
   "execution_count": null,
   "metadata": {},
   "outputs": [],
   "source": [
    "example() # definitie van functie staat onder het aanroepen (aha!)\n",
    "\n",
    "def example():\n",
    "    print('this code will run')\n",
    "    z = 3 + 9\n",
    "    print(z)"
   ]
  },
  {
   "cell_type": "markdown",
   "metadata": {},
   "source": [
    "# 21 User input"
   ]
  },
  {
   "cell_type": "code",
   "execution_count": null,
   "metadata": {},
   "outputs": [],
   "source": [
    "x = input('What is your name?: ')\n",
    "print('Hello',x)"
   ]
  },
  {
   "cell_type": "markdown",
   "metadata": {},
   "source": [
    "# Exercise "
   ]
  },
  {
   "cell_type": "code",
   "execution_count": null,
   "metadata": {},
   "outputs": [],
   "source": [
    "x = input('Geef een woord: ')\n",
    "y = ''\n",
    "while x != y:   \n",
    "    y = x\n",
    "    x = input('Geef een woord: ')\n",
    "    \n",
    "print('Oei! à la Lotte')\n",
    "print(y)"
   ]
  },
  {
   "cell_type": "markdown",
   "metadata": {},
   "source": [
    "# Function parameters"
   ]
  },
  {
   "cell_type": "code",
   "execution_count": 1,
   "metadata": {},
   "outputs": [
    {
     "name": "stdout",
     "output_type": "stream",
     "text": [
      "num1 is 5\n",
      "8\n",
      "num1 is 5\n",
      "8\n"
     ]
    }
   ],
   "source": [
    "def simple_addition(num1,num2):\n",
    "    answer = num1 + num2\n",
    "    print('num1 is', num1)\n",
    "    print(answer)\n",
    "\n",
    "simple_addition(5,3)\n",
    "\n",
    "simple_addition(num2=3,num1=5) # om volgorde uit te schakelen"
   ]
  },
  {
   "cell_type": "markdown",
   "metadata": {},
   "source": [
    "# Function parameter default"
   ]
  },
  {
   "cell_type": "code",
   "execution_count": null,
   "metadata": {},
   "outputs": [],
   "source": [
    "def basic_window(width,height=200,font='TNR'):\n",
    "    print(width,height,font)\n",
    "basic_window(500)"
   ]
  },
  {
   "cell_type": "markdown",
   "metadata": {},
   "source": [
    "* variabelen met default waarde worden op het einde van de definitie geplaatst\n",
    "* bij het aanroepen van definitie, moet enkel een waarde ingegeven worden voor de parameters zonder default"
   ]
  },
  {
   "cell_type": "markdown",
   "metadata": {},
   "source": [
    "# Global and local variables"
   ]
  },
  {
   "cell_type": "code",
   "execution_count": null,
   "metadata": {},
   "outputs": [],
   "source": [
    "x = 6\n",
    "\n",
    "def example2():\n",
    "    # works\n",
    "    global x\n",
    "    print(x)\n",
    "    print(x+5)\n",
    "    \n",
    "    # but then what happens when we go to modify:\n",
    "    x+=6\n",
    "\n",
    "example2()\n",
    "print(x)"
   ]
  },
  {
   "cell_type": "code",
   "execution_count": null,
   "metadata": {},
   "outputs": [],
   "source": [
    "# x binnenin functie toewijzen aan andere variabele\n",
    "\n",
    "x = 6\n",
    "\n",
    "def example4():\n",
    "    globx = x\n",
    "    # now we can:\n",
    "    print(globx)\n",
    "    globx+=5\n",
    "    print(globx)"
   ]
  },
  {
   "cell_type": "code",
   "execution_count": null,
   "metadata": {},
   "outputs": [],
   "source": [
    "# x benoemen in definitie\n",
    "\n",
    "x = 6\n",
    "def example(x):\n",
    " \n",
    "    print(x)\n",
    "    x+=5\n",
    "    print(x)\n",
    "    return x\n",
    " \n",
    "x = example(x)\n",
    "print(x)"
   ]
  },
  {
   "cell_type": "code",
   "execution_count": null,
   "metadata": {},
   "outputs": [],
   "source": [
    "x = 6\n",
    "def example(modify):\n",
    "    print(x)\n",
    "    return 1\n",
    " \n",
    "if example(x) == 1: # print 6\n",
    "    print(\"succes\") # print 0"
   ]
  },
  {
   "cell_type": "code",
   "execution_count": null,
   "metadata": {},
   "outputs": [],
   "source": [
    "#f(x) = 2x\n",
    "def f(x):   \n",
    "    return 2*x\n",
    "\n",
    "result = f(5)\n",
    "print(result)"
   ]
  },
  {
   "cell_type": "markdown",
   "metadata": {},
   "source": [
    "# Debugging"
   ]
  },
  {
   "cell_type": "code",
   "execution_count": null,
   "metadata": {},
   "outputs": [],
   "source": [
    "def task1():\n",
    "\n",
    "\n",
    "def task2():\n",
    "    print('more tasks')"
   ]
  },
  {
   "cell_type": "code",
   "execution_count": null,
   "metadata": {},
   "outputs": [],
   "source": [
    "def task():\n",
    "    print ('stuff')\n",
    "\n",
    "print('more stuff')\n",
    "\n",
    "    print('stuff')"
   ]
  },
  {
   "cell_type": "markdown",
   "metadata": {},
   "source": [
    "# 16 File writing and appending"
   ]
  },
  {
   "cell_type": "code",
   "execution_count": null,
   "metadata": {},
   "outputs": [],
   "source": [
    "text = '\\nSample Text to Save\\nNew line! SECOND'\n",
    "print(len(text))\n",
    "\n",
    "# notifies Python that you are opening this file, with the intention to write\n",
    "saveFile = open('exampleFile.txt','a').write(text) # handle\n",
    "if len(text)==saveFile:\n",
    "    print(\"Write success!\")\n",
    "else: \n",
    "    print(\"something went wrong!\")\n",
    "\n",
    "# actually writes the information\n",
    "#saveFile.write(text)\n",
    "\n",
    "# It is important to remember to actually close the file, otherwise it will\n",
    "# hang for a while and could cause problems in your script\n",
    "#saveFile.close()\n",
    "print(saveFile)\n"
   ]
  },
  {
   "cell_type": "markdown",
   "metadata": {},
   "source": [
    "escape characters\n",
    "\n",
    "\\t = tab\n",
    "\n",
    "\\n = nieuwe lijn "
   ]
  },
  {
   "cell_type": "markdown",
   "metadata": {},
   "source": [
    "# 18 File reading"
   ]
  },
  {
   "cell_type": "code",
   "execution_count": 3,
   "metadata": {},
   "outputs": [
    {
     "name": "stdout",
     "output_type": "stream",
     "text": [
      "Sample Text to Save\n",
      "New line!\n"
     ]
    }
   ],
   "source": [
    "# similar syntax as you've seen, 'r' for read. You can just throw a .read() at\n",
    "# the end, and you get:\n",
    "readMe = open('exampleFile.txt','r').read()\n",
    "print(readMe)"
   ]
  },
  {
   "cell_type": "code",
   "execution_count": 5,
   "metadata": {},
   "outputs": [
    {
     "name": "stdout",
     "output_type": "stream",
     "text": [
      "['Fruit; number\\n', 'Appel; 5\\n', 'Pear; 3\\n', 'Apricot; 2\\n', 'Mango; 17']\n",
      "5\n"
     ]
    }
   ],
   "source": [
    "# this will instead read the file into a python list. \n",
    "readMe = open('exampleFile2.txt','r').readlines()\n",
    "print(readMe)\n",
    "print(len(readMe))"
   ]
  },
  {
   "cell_type": "markdown",
   "metadata": {},
   "source": [
    "# 19 FAQ"
   ]
  },
  {
   "cell_type": "code",
   "execution_count": 6,
   "metadata": {},
   "outputs": [
    {
     "name": "stdout",
     "output_type": "stream",
     "text": [
      ")))))))))))This is a massive print, where you want to use multiple lines, maybe make desi\n",
      "      gns, or\n"
     ]
    }
   ],
   "source": [
    "print(''')))))))))))This is a massive print, where you want to use multiple lines, maybe make desi\n",
    "      gns, or''')"
   ]
  },
  {
   "cell_type": "markdown",
   "metadata": {},
   "source": [
    "Staat vaak bovenaan geïmporteerde library/script om aan te geven dat de code niet gerund moet worden:"
   ]
  },
  {
   "cell_type": "code",
   "execution_count": null,
   "metadata": {},
   "outputs": [],
   "source": [
    "if __name__ == '__main__':\n",
    "    print('such great module!!!!')\n",
    "    "
   ]
  },
  {
   "cell_type": "markdown",
   "metadata": {},
   "source": [
    "# 22 Statistics"
   ]
  },
  {
   "cell_type": "code",
   "execution_count": null,
   "metadata": {},
   "outputs": [],
   "source": [
    "import statistics\n",
    "\n",
    "example_list = [5,2,5,6,1,2,6,7,2,6,3,5,5]\n",
    "\n",
    "x = statistics.mean(example_list)\n",
    "print(x)\n",
    "\n",
    "y = statistics.median(example_list)\n",
    "print(y)\n",
    "\n",
    "z = statistics.mode(example_list)\n",
    "print(z)\n",
    "\n",
    "a = statistics.stdev(example_list)\n",
    "print(a)\n",
    "\n",
    "b = statistics.variance(example_list)\n",
    "print(b)"
   ]
  },
  {
   "cell_type": "code",
   "execution_count": null,
   "metadata": {},
   "outputs": [],
   "source": [
    "from statistics import mean \n",
    "# so here, we've imported the mean function only. => no need to write statistics.mean!\n",
    "# instead of 'import statistics'\n",
    "print(mean(example_list))\n",
    "\n",
    "# and again we can do as\n",
    "from statistics import mean as m\n",
    "print(m(example_list))\n",
    "\n",
    "from statistics import *\n",
    "print(mean(example_list))"
   ]
  },
  {
   "cell_type": "markdown",
   "metadata": {},
   "source": [
    "# 25 Lists vs. tuples"
   ]
  },
  {
   "cell_type": "markdown",
   "metadata": {},
   "source": [
    "comma separated assortment of data ('lists'), BUT\n",
    "\n",
    "tuple = content cannot be changed (read only)\n",
    "\n",
    "    used for 'sequence unpacking' = we want to store returned data to some specified variables. "
   ]
  },
  {
   "cell_type": "code",
   "execution_count": null,
   "metadata": {},
   "outputs": [],
   "source": [
    "def example():\n",
    "    return 15, 12\n",
    "\n",
    "x, y = example()\n",
    "print(x,y)\n",
    "\n",
    "x = x+1\n",
    "print(x)\n",
    "# in the above case, we have used a tuple and cannot modify it... and\n",
    "# we definitely do not want to!"
   ]
  },
  {
   "cell_type": "code",
   "execution_count": null,
   "metadata": {},
   "outputs": [],
   "source": [
    "x = (1,3,5,6,2,1,6)\n",
    "print(x)"
   ]
  },
  {
   "cell_type": "code",
   "execution_count": null,
   "metadata": {},
   "outputs": [],
   "source": [
    "print(x[2] + 1) # om de plaats binnen een tuple 'list' aan te geven"
   ]
  },
  {
   "cell_type": "markdown",
   "metadata": {},
   "source": [
    "# 26 Dictionaries"
   ]
  },
  {
   "cell_type": "code",
   "execution_count": null,
   "metadata": {},
   "outputs": [],
   "source": [
    "# Dictionary of names and ages. \n",
    "exDict = {'Jack':15,'Bob':22,'Alice':12,'Kevin':17}\n",
    "\n",
    "print(exDict)"
   ]
  },
  {
   "cell_type": "code",
   "execution_count": null,
   "metadata": {},
   "outputs": [],
   "source": [
    "print(exDict['Jack']) # How old is Jack?"
   ]
  },
  {
   "cell_type": "code",
   "execution_count": null,
   "metadata": {},
   "outputs": [],
   "source": [
    "exDict['Tim'] = 14 # We find a new person that we want to insert:\n",
    "print(exDict)"
   ]
  },
  {
   "cell_type": "code",
   "execution_count": null,
   "metadata": {},
   "outputs": [],
   "source": [
    "exDict['Tim'] = 15 # change age\n",
    "print(exDict)"
   ]
  },
  {
   "cell_type": "code",
   "execution_count": null,
   "metadata": {},
   "outputs": [],
   "source": [
    "del exDict['Tim'] # delete item\n",
    "print(exDict['Jack'][0])"
   ]
  },
  {
   "cell_type": "code",
   "execution_count": 7,
   "metadata": {},
   "outputs": [
    {
     "name": "stdout",
     "output_type": "stream",
     "text": [
      "blonde\n",
      "15\n",
      "{'Jack': [15, 'blonde'], 'Bob': [22, 'brown'], 'Alice': [12, 'black'], 'Kevin': [17, 'red']}\n"
     ]
    }
   ],
   "source": [
    "# Next we want to track hair color\n",
    "exDict = {'Jack':[15,'blonde'],'Bob':[22, 'brown'],'Alice':[12,'black'],'Kevin':[17,'red']}\n",
    "print(exDict['Jack'][1])\n",
    "print(exDict['Jack'][0])\n",
    "print(exDict)"
   ]
  },
  {
   "cell_type": "code",
   "execution_count": null,
   "metadata": {},
   "outputs": [],
   "source": [
    "exDict['Tim'] = 70, 'grey'\n",
    "print(exDict)"
   ]
  },
  {
   "cell_type": "markdown",
   "metadata": {},
   "source": [
    "# Exercise"
   ]
  },
  {
   "cell_type": "code",
   "execution_count": 5,
   "metadata": {},
   "outputs": [
    {
     "name": "stdout",
     "output_type": "stream",
     "text": [
      "Add a name? / Delete a name? press D / Stop? press S: Tine\n",
      "Age: 30\n",
      "{'Tine': '30'}\n",
      "Add a name? / Delete a name? press D / Stop? press S: D\n",
      "Delete this name: dqkj\n"
     ]
    },
    {
     "ename": "KeyError",
     "evalue": "'dqkj'",
     "output_type": "error",
     "traceback": [
      "\u001b[1;31m---------------------------------------------------------------------------\u001b[0m",
      "\u001b[1;31mKeyError\u001b[0m                                  Traceback (most recent call last)",
      "\u001b[1;32m<ipython-input-5-213aeba5d4a1>\u001b[0m in \u001b[0;36m<module>\u001b[1;34m()\u001b[0m\n\u001b[0;32m     21\u001b[0m         \u001b[0my\u001b[0m \u001b[1;33m=\u001b[0m \u001b[0minput\u001b[0m\u001b[1;33m(\u001b[0m\u001b[1;34m'Delete this name: '\u001b[0m\u001b[1;33m)\u001b[0m\u001b[1;33m\u001b[0m\u001b[0m\n\u001b[0;32m     22\u001b[0m         \u001b[0mnameDelete\u001b[0m \u001b[1;33m=\u001b[0m \u001b[0my\u001b[0m\u001b[1;33m\u001b[0m\u001b[0m\n\u001b[1;32m---> 23\u001b[1;33m         \u001b[1;32mdel\u001b[0m \u001b[0md\u001b[0m\u001b[1;33m[\u001b[0m\u001b[0mnameDelete\u001b[0m\u001b[1;33m]\u001b[0m\u001b[1;33m\u001b[0m\u001b[0m\n\u001b[0m\u001b[0;32m     24\u001b[0m     \u001b[1;32melif\u001b[0m \u001b[0mx\u001b[0m \u001b[1;33m==\u001b[0m \u001b[1;34m'S'\u001b[0m\u001b[1;33m:\u001b[0m\u001b[1;33m\u001b[0m\u001b[0m\n\u001b[0;32m     25\u001b[0m         \u001b[0mprint\u001b[0m\u001b[1;33m(\u001b[0m\u001b[1;34m'End'\u001b[0m\u001b[1;33m)\u001b[0m\u001b[1;33m\u001b[0m\u001b[0m\n",
      "\u001b[1;31mKeyError\u001b[0m: 'dqkj'"
     ]
    }
   ],
   "source": [
    "d = dict()\n",
    "\n",
    "'''x = input('Geef een naam: ')\n",
    "\n",
    "\n",
    "while(x not in d.keys()):\n",
    "    y = input('Geef de leeftijd: ')\n",
    "    d[x] = y\n",
    "    x = input('Geef een naam: ')\n",
    "else:\n",
    "    print(' zit al in onze lijst en is ' ) \n",
    "    print(d[x])\n",
    "'''\n",
    "x = ''\n",
    "# Add a name? A / Delete a name? D / Stop? S\n",
    "\n",
    "\n",
    "while x != 'S':\n",
    "    x = input('Add a name? / Delete a name? press D / Stop? press S: ')\n",
    "    if x == 'D':\n",
    "        y = input('Delete this name: ')\n",
    "        \n",
    "        nameDelete = y\n",
    "        del d[nameDelete]\n",
    "    elif x == 'S':\n",
    "        print('End')\n",
    "    elif x in d.keys():\n",
    "        print(x, \"is already on the list.\")\n",
    "    else:\n",
    "        y = input('Age: ')\n",
    "        d[x] = y\n",
    "        print(d)\n",
    "\n"
   ]
  },
  {
   "cell_type": "code",
   "execution_count": 4,
   "metadata": {},
   "outputs": [
    {
     "name": "stdout",
     "output_type": "stream",
     "text": [
      "3\n"
     ]
    }
   ],
   "source": [
    "def q(d, e, f):\n",
    "    x = 0\n",
    "    return (d*(x**2) + e*x + f)\n",
    "\n",
    "#x = 0\n",
    "result = q(1,-4, 3)\n",
    "print(result)"
   ]
  },
  {
   "cell_type": "code",
   "execution_count": null,
   "metadata": {},
   "outputs": [],
   "source": []
  }
 ],
 "metadata": {
  "kernelspec": {
   "display_name": "Python 3",
   "language": "python",
   "name": "python3"
  },
  "language_info": {
   "codemirror_mode": {
    "name": "ipython",
    "version": 3
   },
   "file_extension": ".py",
   "mimetype": "text/x-python",
   "name": "python",
   "nbconvert_exporter": "python",
   "pygments_lexer": "ipython3",
   "version": "3.7.2"
  }
 },
 "nbformat": 4,
 "nbformat_minor": 2
}
