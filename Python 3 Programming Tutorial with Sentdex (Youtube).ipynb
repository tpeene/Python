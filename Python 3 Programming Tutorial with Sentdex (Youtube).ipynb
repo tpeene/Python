{
 "cells": [
  {
   "cell_type": "markdown",
   "metadata": {},
   "source": [
    "# P.2 - Tuples, Strings, Loops\n",
    "https://www.youtube.com/watch?v=iv5m0c-8Opc"
   ]
  },
  {
   "cell_type": "code",
   "execution_count": 4,
   "metadata": {},
   "outputs": [
    {
     "name": "stdout",
     "output_type": "stream",
     "text": [
      "<class 'tuple'>\n"
     ]
    }
   ],
   "source": [
    "prog = \"Python\", \"Java\", \"C++\", \"C#\"\n",
    "print(type(prog))\n",
    "#print(prog.dtypes)"
   ]
  },
  {
   "cell_type": "code",
   "execution_count": 7,
   "metadata": {},
   "outputs": [
    {
     "ename": "TypeError",
     "evalue": "unsupported operand type(s) for /: 'str' and 'int'",
     "output_type": "error",
     "traceback": [
      "\u001b[1;31m---------------------------------------------------------------------------\u001b[0m",
      "\u001b[1;31mTypeError\u001b[0m                                 Traceback (most recent call last)",
      "\u001b[1;32m<ipython-input-7-fd968c3777e5>\u001b[0m in \u001b[0;36m<module>\u001b[1;34m()\u001b[0m\n\u001b[0;32m      1\u001b[0m \u001b[1;32mfor\u001b[0m \u001b[0mlang\u001b[0m \u001b[1;32min\u001b[0m \u001b[0mprog\u001b[0m\u001b[1;33m:\u001b[0m \u001b[1;31m# lang is een temp variable\u001b[0m\u001b[1;33m\u001b[0m\u001b[0m\n\u001b[1;32m----> 2\u001b[1;33m     \u001b[0mprint\u001b[0m\u001b[1;33m(\u001b[0m\u001b[0mlang\u001b[0m\u001b[1;33m/\u001b[0m\u001b[1;36m2\u001b[0m\u001b[1;33m)\u001b[0m\u001b[1;33m\u001b[0m\u001b[0m\n\u001b[0m\u001b[0;32m      3\u001b[0m \u001b[1;33m\u001b[0m\u001b[0m\n",
      "\u001b[1;31mTypeError\u001b[0m: unsupported operand type(s) for /: 'str' and 'int'"
     ]
    }
   ],
   "source": [
    "for lang in prog: # lang is een temp variable\n",
    "    print(lang)    "
   ]
  },
  {
   "cell_type": "code",
   "execution_count": 8,
   "metadata": {},
   "outputs": [
    {
     "data": {
      "text/plain": [
       "('Python', 'Java', 'C++', 'C#')"
      ]
     },
     "execution_count": 8,
     "metadata": {},
     "output_type": "execute_result"
    }
   ],
   "source": [
    "prog"
   ]
  },
  {
   "cell_type": "markdown",
   "metadata": {},
   "source": [
    "# P.3 - Lists & Tic Tac Toe Game"
   ]
  },
  {
   "cell_type": "code",
   "execution_count": 1,
   "metadata": {},
   "outputs": [
    {
     "name": "stdout",
     "output_type": "stream",
     "text": [
      "<class 'tuple'>\n"
     ]
    }
   ],
   "source": [
    "game = (0,0,0)\n",
    "print(type(game))"
   ]
  },
  {
   "cell_type": "code",
   "execution_count": 2,
   "metadata": {},
   "outputs": [
    {
     "name": "stdout",
     "output_type": "stream",
     "text": [
      "<class 'list'>\n"
     ]
    }
   ],
   "source": [
    "game = [0,0,0,\n",
    "        0,0,0,\n",
    "        0,0,0]\n",
    "print(type(game))"
   ]
  },
  {
   "cell_type": "code",
   "execution_count": 4,
   "metadata": {},
   "outputs": [
    {
     "data": {
      "text/plain": [
       "[0, 0, 0, 0, 0, 0, 0, 0, 0]"
      ]
     },
     "execution_count": 4,
     "metadata": {},
     "output_type": "execute_result"
    }
   ],
   "source": [
    "game = [0,0,0,\n",
    "        0,0,0,\n",
    "        0,0,0]\n",
    "game"
   ]
  },
  {
   "cell_type": "code",
   "execution_count": 2,
   "metadata": {},
   "outputs": [
    {
     "data": {
      "text/plain": [
       "[[0, 0, 0], [0, 0, 0], [0, 0, 0]]"
      ]
     },
     "execution_count": 2,
     "metadata": {},
     "output_type": "execute_result"
    }
   ],
   "source": [
    "game = [[0,0,0],\n",
    "        [0,0,0],\n",
    "        [0,0,0]]\n",
    "game"
   ]
  },
  {
   "cell_type": "code",
   "execution_count": 6,
   "metadata": {},
   "outputs": [
    {
     "name": "stdout",
     "output_type": "stream",
     "text": [
      "[0, 0, 0]\n",
      "[0, 0, 0]\n",
      "[0, 0, 0]\n"
     ]
    }
   ],
   "source": [
    "for row in game:\n",
    "    print(row)"
   ]
  },
  {
   "cell_type": "code",
   "execution_count": 7,
   "metadata": {},
   "outputs": [
    {
     "ename": "NameError",
     "evalue": "name 'column' is not defined",
     "output_type": "error",
     "traceback": [
      "\u001b[1;31m---------------------------------------------------------------------------\u001b[0m",
      "\u001b[1;31mNameError\u001b[0m                                 Traceback (most recent call last)",
      "\u001b[1;32m<ipython-input-7-a18de40943f2>\u001b[0m in \u001b[0;36m<module>\u001b[1;34m()\u001b[0m\n\u001b[1;32m----> 1\u001b[1;33m \u001b[1;32mfor\u001b[0m \u001b[0mcolumn\u001b[0m \u001b[1;32min\u001b[0m \u001b[0mcolumn\u001b[0m\u001b[1;33m:\u001b[0m\u001b[1;33m\u001b[0m\u001b[0m\n\u001b[0m\u001b[0;32m      2\u001b[0m     \u001b[0mprint\u001b[0m\u001b[1;33m(\u001b[0m\u001b[0mcolumn\u001b[0m\u001b[1;33m)\u001b[0m\u001b[1;33m\u001b[0m\u001b[0m\n",
      "\u001b[1;31mNameError\u001b[0m: name 'column' is not defined"
     ]
    }
   ],
   "source": [
    "for column in column:\n",
    "    print(column)\n",
    "# NOT OK"
   ]
  },
  {
   "cell_type": "markdown",
   "metadata": {},
   "source": [
    "# P.4 - Built-in Functions"
   ]
  },
  {
   "cell_type": "code",
   "execution_count": 22,
   "metadata": {},
   "outputs": [
    {
     "name": "stdout",
     "output_type": "stream",
     "text": [
      "0 [0, 0, 0]\n",
      "1 [0, 0, 0]\n",
      "2 [0, 0, 0]\n"
     ]
    }
   ],
   "source": [
    "#print(\"   0  1  2\")\n",
    "count = 0\n",
    "for row in game:\n",
    "    print(count, row)\n",
    "    count += 1"
   ]
  },
  {
   "cell_type": "markdown",
   "metadata": {},
   "source": [
    "Built-in functions= https://docs.python.org/3/library/functions.html\n",
    "\n",
    "Enumerate: returns index value + value"
   ]
  },
  {
   "cell_type": "code",
   "execution_count": 21,
   "metadata": {},
   "outputs": [
    {
     "data": {
      "text/plain": [
       "[(0, [0, 0, 0]), (1, [0, 0, 0]), (2, [0, 0, 0])]"
      ]
     },
     "execution_count": 21,
     "metadata": {},
     "output_type": "execute_result"
    }
   ],
   "source": [
    "list(enumerate(game))"
   ]
  },
  {
   "cell_type": "code",
   "execution_count": 23,
   "metadata": {},
   "outputs": [
    {
     "name": "stdout",
     "output_type": "stream",
     "text": [
      "(0, [0, 0, 0]) <class 'tuple'>\n",
      "(1, [0, 0, 0]) <class 'tuple'>\n",
      "(2, [0, 0, 0]) <class 'tuple'>\n"
     ]
    }
   ],
   "source": [
    "# Gebruik van built-in function Enumerate() ipv for loop met een teller\n",
    "# Enumerate() print de tuples\n",
    "for x in enumerate(game):\n",
    "    print(x, type(x))"
   ]
  },
  {
   "cell_type": "code",
   "execution_count": 22,
   "metadata": {},
   "outputs": [
    {
     "name": "stdout",
     "output_type": "stream",
     "text": [
      "0 [0, 0, 0] <class 'int'> <class 'list'>\n",
      "1 [0, 0, 0] <class 'int'> <class 'list'>\n",
      "2 [0, 0, 0] <class 'int'> <class 'list'>\n"
     ]
    }
   ],
   "source": [
    "# Tuple wordt opgesplitst in index als integer en element als list\n",
    "for count, row in enumerate(game):\n",
    "    print(count, row, type(count), type(row))"
   ]
  },
  {
   "cell_type": "code",
   "execution_count": 30,
   "metadata": {},
   "outputs": [
    {
     "name": "stdout",
     "output_type": "stream",
     "text": [
      "   a  b  c\n",
      "0 [0, 0, 0]\n",
      "1 [0, 0, 0]\n",
      "2 [0, 0, 0]\n"
     ]
    }
   ],
   "source": [
    "print(\"   a  b  c\")\n",
    "for count, row in enumerate(game):\n",
    "\tprint(count, row)"
   ]
  },
  {
   "cell_type": "markdown",
   "metadata": {},
   "source": [
    "# P.5 - Indexes and slices"
   ]
  },
  {
   "cell_type": "code",
   "execution_count": 35,
   "metadata": {},
   "outputs": [
    {
     "name": "stdout",
     "output_type": "stream",
     "text": [
      "1\n",
      "5\n",
      "[2]\n",
      "[2, 3, 4, 5]\n",
      "[1, 99, 3, 4, 5]\n"
     ]
    }
   ],
   "source": [
    "l = [1,2,3,4,5]\n",
    "\n",
    "# Element in list printen\n",
    "print(l[0]) # Eerste element\n",
    "print(l[-1]) # Laatste element\n",
    "print(l[1:2]) # Slice van index 1 tot 2, zonder 2\n",
    "print(l[1:]) # Slice vanaf index 1\n",
    "\n",
    "# Element in list wijzigen\n",
    "l[1] = 99\n",
    "print(l)"
   ]
  },
  {
   "cell_type": "code",
   "execution_count": 36,
   "metadata": {},
   "outputs": [
    {
     "name": "stdout",
     "output_type": "stream",
     "text": [
      "   a  b  c\n",
      "0 [0, 1, 0]\n",
      "1 [0, 0, 0]\n",
      "2 [0, 0, 0]\n"
     ]
    }
   ],
   "source": [
    "game = [[0,0,0],\n",
    "        [0,0,0],\n",
    "        [0,0,0]]\n",
    "\n",
    "game [0][1]= 1 # Wijzig element van list in list\n",
    "\n",
    "print(\"   a  b  c\")\n",
    "for count, row in enumerate(game):\n",
    "\tprint(count, row)"
   ]
  },
  {
   "cell_type": "markdown",
   "metadata": {},
   "source": [
    "# P.6 - Functions"
   ]
  },
  {
   "cell_type": "code",
   "execution_count": null,
   "metadata": {},
   "outputs": [],
   "source": [
    "# Sample of game: \n",
    "game = [[0,0,0],\n",
    "        [0,0,0],\n",
    "        [0,0,0]]\n",
    "\n",
    "print(\"   a  b  c\")\n",
    "for count, row in enumerate(game):\n",
    "\tprint(count, row)\n",
    "\n",
    "game [0][1]= 1 # Wijzig element van list in list\n",
    "\n",
    "print(\"   a  b  c\")\n",
    "for count, row in enumerate(game):\n",
    "\tprint(count, row)"
   ]
  },
  {
   "cell_type": "code",
   "execution_count": 38,
   "metadata": {},
   "outputs": [
    {
     "name": "stdout",
     "output_type": "stream",
     "text": [
      "   1  2  3\n",
      "0 [0, 0, 0]\n",
      "1 [0, 0, 0]\n",
      "2 [0, 0, 0]\n",
      "   1  2  3\n",
      "0 [0, 1, 0]\n",
      "1 [0, 0, 0]\n",
      "2 [0, 0, 0]\n",
      "   1  2  3\n",
      "0 [0, 1, 0]\n",
      "1 [0, 0, 0]\n",
      "2 [0, 0, 0]\n"
     ]
    }
   ],
   "source": [
    "game = [[0,0,0],\n",
    "        [0,0,0],\n",
    "        [0,0,0]]\n",
    "\n",
    "# Functie maken\n",
    "def game_board():\n",
    "\tprint(\"   1  2  3\")\n",
    "\tfor count, row in enumerate(game):\n",
    "\t\tprint(count, row)\n",
    "\n",
    "# Functie aanroepen\n",
    "game_board()\n",
    "\n",
    "game[0][1] = 1\n",
    "\n",
    "game_board() # this runs the function\n",
    "game_board # this is the name of the function\n",
    "\n",
    "# Naam van functie wijzigen\n",
    "x = game_board\n",
    "# Functie opnieuw aanroepen\n",
    "x()"
   ]
  },
  {
   "cell_type": "markdown",
   "metadata": {},
   "source": [
    "# P.7 - Function parameters and Typing"
   ]
  },
  {
   "cell_type": "markdown",
   "metadata": {},
   "source": [
    "dynamic typing: system knows if it is a float, string, integer...\n",
    "\n",
    "but you can specify enforced typing (rarely done)"
   ]
  },
  {
   "cell_type": "code",
   "execution_count": 3,
   "metadata": {},
   "outputs": [
    {
     "name": "stdout",
     "output_type": "stream",
     "text": [
      "8\n",
      "hey there\n"
     ]
    }
   ],
   "source": [
    "def addition(x, y):\n",
    "\treturn x+y\n",
    "# 1 manier\n",
    "print(addition(5,3))\n",
    "\n",
    "# 2e manier: toekennen aan parameter\n",
    "z = addition(\"hey \", \"there\")\n",
    "print(z)"
   ]
  },
  {
   "cell_type": "code",
   "execution_count": 5,
   "metadata": {},
   "outputs": [
    {
     "name": "stdout",
     "output_type": "stream",
     "text": [
      "   1  2  3\n",
      "0 [1, 0, 0]\n",
      "1 [0, 0, 0]\n",
      "2 [0, 0, 0]\n",
      "   1  2  3\n",
      "0 [1, 0, 0]\n",
      "1 [0, 0, 0]\n",
      "2 [0, 0, 0]\n",
      "   1  2  3\n",
      "0 [1, 0, 0]\n",
      "1 [0, 0, 0]\n",
      "2 [0, 0, 0]\n"
     ]
    }
   ],
   "source": [
    "game = [[0,0,0],\n",
    "        [0,0,0],\n",
    "        [0,0,0]]\n",
    "\n",
    "# Functie maken\n",
    "#def game_board(player, row, column): # without default values\n",
    "def game_board(player=0, row=0, column=0): # default values\n",
    "\tprint(\"   1  2  3\")\n",
    "\tif player != 0: \n",
    "\t\tgame[row][column] = player\n",
    "\tfor count, row in enumerate(game):\n",
    "\t\tprint(count, row)\n",
    "\n",
    "game_board(1, 0, 0)\n",
    "game_board(player=1, row=0, column=0)\n",
    "game_board(1, row=0, column=0)"
   ]
  },
  {
   "cell_type": "code",
   "execution_count": 10,
   "metadata": {},
   "outputs": [
    {
     "name": "stdout",
     "output_type": "stream",
     "text": [
      "   1  2  3\n",
      "0 [1, 0, 0]\n",
      "1 [0, 0, 0]\n",
      "2 [1, 0, 0]\n",
      "   1  2  3\n",
      "0 [1, 0, 0]\n",
      "1 [0, 0, 0]\n",
      "2 [1, 0, 0]\n"
     ]
    }
   ],
   "source": [
    "# Tweede manier om te printen wanneer er geen waarde wordt doorgegeven\n",
    "def game_board(player=1, row=0, column=0, just_display=False): # just_display is een zelf gekozen benaming voor var\n",
    "\tprint(\"   1  2  3\")\n",
    "\tif not just_display:  # if not just_display=True:\n",
    "\t\tgame[row][column] = player\n",
    "\tfor count, row in enumerate(game):\n",
    "\t\tprint(count, row)\n",
    "\n",
    "game_board(just_display = True)\n",
    "game_board(player=1, row=0, column=0)"
   ]
  },
  {
   "cell_type": "markdown",
   "metadata": {},
   "source": [
    "# P.8 - Mutability revisited"
   ]
  },
  {
   "cell_type": "markdown",
   "metadata": {},
   "source": [
    "list, tuple, integer, string... are immutable\n",
    "\n",
    "an element in a list is mutable\n",
    "\n",
    "when added 'global' to the variable, then the tuple, list, integer... is mutable"
   ]
  },
  {
   "cell_type": "code",
   "execution_count": 11,
   "metadata": {},
   "outputs": [
    {
     "name": "stdout",
     "output_type": "stream",
     "text": [
      "('1', '2')\n",
      "<class 'tuple'>\n",
      "2\n",
      "<class 'int'>\n",
      "[1]\n",
      "[2]\n",
      "[2]\n"
     ]
    }
   ],
   "source": [
    "# tuple x is immutable\n",
    "x = 1\n",
    "def test():\n",
    "    x = 2\n",
    "test()\n",
    "print(x)\n",
    "print(type(x))\n",
    "\n",
    "# x is mutable because of 'global' x\n",
    "x = 1\n",
    "def test():\n",
    "    global x\n",
    "    x = 2\n",
    "test()\n",
    "print(x)\n",
    "print(type(x))\n",
    "\n",
    "# list x is immutable\n",
    "x = [1]\n",
    "def test():\n",
    "    x = [2]\n",
    "test()\n",
    "print(x)\n",
    "\n",
    "\n",
    "x = [1]\n",
    "def test():\n",
    "    global x\n",
    "    x = [2]\n",
    "test()\n",
    "print(x)\n",
    "\n",
    "# element in list is mutable\n",
    "x = [1]\n",
    "def test():\n",
    "    x[0] = 2\n",
    "test()\n",
    "print(x)"
   ]
  },
  {
   "cell_type": "code",
   "execution_count": 22,
   "metadata": {},
   "outputs": [
    {
     "name": "stdout",
     "output_type": "stream",
     "text": [
      "   1  2  3\n",
      "0 [2, 0, 0]\n",
      "1 [0, 0, 0]\n",
      "2 [0, 0, 0]\n"
     ]
    },
    {
     "data": {
      "text/plain": [
       "'game = game_board(game, just_display = True)\\ngame = game_board(game, player=1, row=2, column=1)'"
      ]
     },
     "execution_count": 22,
     "metadata": {},
     "output_type": "execute_result"
    }
   ],
   "source": [
    "game = [[0,0,0],\n",
    "        [0,0,0],\n",
    "        [0,0,0]]\n",
    "\n",
    "def game_board(game_map, player=0, row=0, column=0, just_display=False): # var game_map toegevoegd om verwarring met game te vermijden\n",
    "    print(\"   1  2  3\")\n",
    "    if not just_display:  # if not just_display=True:\n",
    "        game_map[row][column] = player\n",
    "    for count, row in enumerate(game_map):\n",
    "        print(count, row)\n",
    "    #return game_map # Is dit overbodig???\n",
    "\n",
    "game = game_board(game, just_display = True)\n",
    "game = game_board(game, player=1, row=2, column=1)"
   ]
  },
  {
   "cell_type": "markdown",
   "metadata": {},
   "source": [
    "# P.9 - Error Handling"
   ]
  },
  {
   "cell_type": "code",
   "execution_count": 25,
   "metadata": {},
   "outputs": [
    {
     "name": "stdout",
     "output_type": "stream",
     "text": [
      "   1  2  3\n",
      "Error: make sure you input row/column as 0, 1 or 2? list index out of range\n"
     ]
    }
   ],
   "source": [
    "game = [[0,0,0],\n",
    "        [0,0,0],\n",
    "        [0,0,0]]\n",
    "\n",
    "def game_board(game_map, player=0, row=0, column=0, just_display=False): # just_display is een zelf gekozen benaming voor var\n",
    "\ttry:\n",
    "\t    print(\"   1  2  3\")\n",
    "\t    if not just_display:  # if not just_display=True:\n",
    "\t        game_map[row][column] = player\n",
    "\t    for count, row in enumerate(game_map):\n",
    "\t        print(count, row)\n",
    "\t    #return game_map\n",
    "\texcept IndexError as e: # een specifieke error aanspreken\n",
    "\t\tprint(\"Error: make sure you input row/column as 0, 1 or 2?\", e)\n",
    "\texcept Exception as e: # een andere uitzondering\n",
    "\t\tprint(\"Something went very wrong!\", e)\n",
    "\t# else:\n",
    "\t# finally: \n",
    "\n",
    "game = game_board(game, player=1, row=3, column=1)"
   ]
  },
  {
   "cell_type": "markdown",
   "metadata": {},
   "source": [
    "# P.10 - Calculating Horizontal Winner"
   ]
  },
  {
   "cell_type": "markdown",
   "metadata": {},
   "source": [
    "3 manieren om te winnen: horizontaal, verticaal, diagonaal\n",
    "\n",
    "Horizontally\n",
    "??? Hier wordt game\n",
    "#The len() function returns the number of items in an object..\n",
    "\n",
    "Remember that \n",
    "= is an assignment operator and \n",
    "== is a comparison operator."
   ]
  },
  {
   "cell_type": "code",
   "execution_count": null,
   "metadata": {},
   "outputs": [],
   "source": [
    "# de Boolean all_match wordt initieel op True gezet\n",
    "# en eenmaal de statement niet meer voldaan wordt, wordt hij voor die rij definitief op False gezet\n",
    "# er volgt dus geen elif/else om te counteren (immers niet nodig!)"
   ]
  },
  {
   "cell_type": "code",
   "execution_count": 2,
   "metadata": {},
   "outputs": [
    {
     "name": "stdout",
     "output_type": "stream",
     "text": [
      "[1, 0, 1]\n",
      "1 1 True\n",
      "1 0 False\n",
      "1 1 False\n",
      "[0, 1, 8]\n",
      "0 0 True\n",
      "0 1 False\n",
      "0 8 False\n",
      "[1, 1, 1]\n",
      "1 1 True\n",
      "1 1 True\n",
      "1 1 True\n",
      "Winner!\n",
      "[0, 0, 0]\n",
      "0 0 True\n",
      "0 0 True\n",
      "0 0 True\n",
      "Winner!\n"
     ]
    }
   ],
   "source": [
    "game = [[1,0,1],\n",
    "        [0,1,8],\n",
    "        [1,1,1],\n",
    "        [0,0,0]]\n",
    "\n",
    "def win(current_game):\n",
    "    for row in game:\n",
    "        print(row)\n",
    "        all_match = True\n",
    "        for item in row:\n",
    "            #print(row[0], item, all_match)\n",
    "            if item != row[0]:\n",
    "                all_match = False\n",
    "            '''else:\n",
    "                all_match = True'''\n",
    "            print(row[0], item, all_match)\n",
    "        #print(row[0], item, all_match)\n",
    "        if all_match:\n",
    "            print(\"Winner!\")\n",
    "\n",
    "win(game)"
   ]
  },
  {
   "cell_type": "code",
   "execution_count": 27,
   "metadata": {},
   "outputs": [
    {
     "name": "stdout",
     "output_type": "stream",
     "text": [
      "[1, 0, 1]\n",
      "[0, 0, 0]\n",
      "[1, 1, 1]\n",
      "Winner!\n"
     ]
    }
   ],
   "source": [
    "game = [[1,0,1],\n",
    "        [0,0,0],\n",
    "        [1,1,1]]\n",
    "\n",
    "def win(current_game):\n",
    "    for row in game:\n",
    "        print(row)\n",
    "        if row.count(row[0]) == len(row) and row[0] != 0:\n",
    "            print(\"Winner!\")\n",
    "            \n",
    "win(game)"
   ]
  },
  {
   "cell_type": "markdown",
   "metadata": {},
   "source": [
    "The len() function returns the number of items in an object. When the object is a string, the len() function returns the number of characters in the string.\n",
    "\n",
    "The count() function in an inbuilt function in python programming language that returns the number of occurrences of a substring in the given string.\n",
    "  string.count(substring, start=…, end=…)"
   ]
  },
  {
   "cell_type": "markdown",
   "metadata": {},
   "source": [
    "# P.11 - Calculating Vertical Winner"
   ]
  },
  {
   "cell_type": "markdown",
   "metadata": {},
   "source": [
    "The append() method appends an element to the end of the list.\n",
    "\n",
    "Creating iterator by using range(len(game)).\n",
    "\n",
    "Creating empty list, appending values of the column, if all equal = Winner!"
   ]
  },
  {
   "cell_type": "code",
   "execution_count": 9,
   "metadata": {},
   "outputs": [
    {
     "name": "stdout",
     "output_type": "stream",
     "text": [
      "[2, 2, 1] 0 2\n",
      "Winner!\n",
      "[2, 2, 1] 1 2\n",
      "[2, 2, 1] 2 1\n",
      "Winner!\n"
     ]
    }
   ],
   "source": [
    "game = [[2, 0, 1],\n",
    "        [2, 0, 1],\n",
    "        [2, 2, 1]]\n",
    "\n",
    "\n",
    "#columns = [0, 1, 2]\n",
    "\n",
    "for col in range(len(game)):\n",
    "    check = []\n",
    "    print(row, col, row[col])\n",
    "    for row in game:\n",
    "        check.append(row[col])\n",
    "        #print(row, col, row[col])\n",
    "\n",
    "    if check.count(check[0]) == len(check) and check[0] != 0:\n",
    "        #print(row, col, row[col])\n",
    "        print(\"Winner!\")"
   ]
  },
  {
   "cell_type": "markdown",
   "metadata": {},
   "source": [
    "# P.12 - Calculating Diagonal Winner"
   ]
  },
  {
   "cell_type": "code",
   "execution_count": 2,
   "metadata": {},
   "outputs": [
    {
     "name": "stdout",
     "output_type": "stream",
     "text": [
      "Winner!\n",
      "Winner!\n"
     ]
    }
   ],
   "source": [
    "# not dynamical:\n",
    "\n",
    "game = [[2, 0, 2],\n",
    "        [2, 2, 1],\n",
    "        [2, 2, 2]]\n",
    "\n",
    "\n",
    "if game[0][0] == game[1][1] == game[2][2]:\n",
    "    print(\"Winner!\")\n",
    "if game[0][2] == game[1][1] == game[2][0]:\n",
    "    print(\"Winner!\")"
   ]
  },
  {
   "cell_type": "code",
   "execution_count": 1,
   "metadata": {},
   "outputs": [
    {
     "name": "stdout",
     "output_type": "stream",
     "text": [
      "[2, 2, 2]\n"
     ]
    }
   ],
   "source": [
    "game = [[2, 0, 2],\n",
    "        [1, 2, 1],\n",
    "        [2, 2, 2]]\n",
    "\n",
    "\n",
    "# diagonaal (linksboven -- rechtsonder): locatie 00, 11, 22\n",
    "diags = []\n",
    "\n",
    "for ix in range(len(game)):\n",
    "    diags.append(game[ix][ix])\n",
    "\n",
    "print(diags)"
   ]
  },
  {
   "cell_type": "code",
   "execution_count": 2,
   "metadata": {},
   "outputs": [
    {
     "name": "stdout",
     "output_type": "stream",
     "text": [
      "3\n",
      "2\n",
      "1\n",
      "0\n"
     ]
    }
   ],
   "source": [
    "#Built-in function 'reversed': returns a reverse iterator.\n",
    "\n",
    "for i in reversed(range(4)):\n",
    "    print(i)"
   ]
  },
  {
   "cell_type": "code",
   "execution_count": 3,
   "metadata": {},
   "outputs": [
    {
     "name": "stdout",
     "output_type": "stream",
     "text": [
      "[2, 1, 0]\n",
      "0 2\n",
      "1 1\n",
      "2 0\n"
     ]
    }
   ],
   "source": [
    "cols = list(reversed(range(len(game)))) # reversed moet voorafgegaan worden door LIST om het subscriptable te maken!!\n",
    "rows = range(len(game))\n",
    "\n",
    "for idx in rows:\n",
    "    print(idx, cols[idx])"
   ]
  },
  {
   "cell_type": "code",
   "execution_count": 8,
   "metadata": {},
   "outputs": [
    {
     "name": "stdout",
     "output_type": "stream",
     "text": [
      "(0, 2)\n",
      "(1, 1)\n",
      "(2, 0)\n"
     ]
    }
   ],
   "source": [
    "# Built-in function zip()\n",
    "\n",
    "x = range(3)\n",
    "y = [2, 1, 0]\n",
    "\n",
    "zip(x, y)\n",
    "\n",
    "for i in zip(x, y):\n",
    "    print(i)"
   ]
  },
  {
   "cell_type": "code",
   "execution_count": 9,
   "metadata": {},
   "outputs": [
    {
     "name": "stdout",
     "output_type": "stream",
     "text": [
      "2 0\n",
      "1 1\n",
      "0 2\n"
     ]
    }
   ],
   "source": [
    "# WAY 1\n",
    "cols = reversed(range(len(game)))\n",
    "rows = range(len(game))\n",
    "\n",
    "for col, row in zip(cols, rows):\n",
    "    print(col, row)"
   ]
  },
  {
   "cell_type": "code",
   "execution_count": 10,
   "metadata": {},
   "outputs": [
    {
     "name": "stdout",
     "output_type": "stream",
     "text": [
      "2 0\n",
      "1 1\n",
      "0 2\n"
     ]
    }
   ],
   "source": [
    "# WAY 2\n",
    "for col, row in zip(reversed(range(len(game))), range(len(game))):\n",
    "    print(col, row)"
   ]
  },
  {
   "cell_type": "code",
   "execution_count": 11,
   "metadata": {},
   "outputs": [
    {
     "name": "stdout",
     "output_type": "stream",
     "text": [
      "0 2\n",
      "1 1\n",
      "2 0\n"
     ]
    }
   ],
   "source": [
    "# WAY 3\n",
    "for col, row in enumerate(reversed(range(len(game)))):\n",
    "    print(col, row)"
   ]
  },
  {
   "cell_type": "code",
   "execution_count": 16,
   "metadata": {},
   "outputs": [
    {
     "name": "stdout",
     "output_type": "stream",
     "text": [
      "[3, 2, 1]\n"
     ]
    }
   ],
   "source": [
    "# WAY 4\n",
    "# diagonaal (rechsboven -- linksonder): enumerate / reversed / append\n",
    "\n",
    "game = [[2, 0, 3],\n",
    "        [1, 2, 1],\n",
    "        [1, 2, 2]]\n",
    "\n",
    "diags = []\n",
    "\n",
    "for col, row in enumerate(reversed(range(len(game)))):\n",
    "    diags.append(game[col][row])\n",
    "\n",
    "print(diags)"
   ]
  },
  {
   "cell_type": "markdown",
   "metadata": {},
   "source": [
    "# P.13 - Iterators/Iterables (bringing things together)"
   ]
  },
  {
   "cell_type": "code",
   "execution_count": 11,
   "metadata": {},
   "outputs": [
    {
     "name": "stdout",
     "output_type": "stream",
     "text": [
      "\\\n",
      "Don't\n"
     ]
    }
   ],
   "source": [
    "# Als je backslash wilt printen -- dubbele backslash typen!!\n",
    "print(\"\\\\\")\n",
    "\n",
    "# Want... \\ wordt gebruikt om een afkappingsteken te kunnen printen\n",
    "print('Don\\'t')"
   ]
  },
  {
   "cell_type": "code",
   "execution_count": null,
   "metadata": {},
   "outputs": [],
   "source": []
  }
 ],
 "metadata": {
  "celltoolbar": "Edit Metadata",
  "kernelspec": {
   "display_name": "Python 3",
   "language": "python",
   "name": "python3"
  },
  "language_info": {
   "codemirror_mode": {
    "name": "ipython",
    "version": 3
   },
   "file_extension": ".py",
   "mimetype": "text/x-python",
   "name": "python",
   "nbconvert_exporter": "python",
   "pygments_lexer": "ipython3",
   "version": "3.6.5"
  }
 },
 "nbformat": 4,
 "nbformat_minor": 2
}
