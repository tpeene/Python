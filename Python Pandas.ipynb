{
 "cells": [
  {
   "cell_type": "markdown",
   "metadata": {},
   "source": [
    "# Data Analysis with Python and Pandas Tutorial Introduction\n",
    "\n",
    "https://pythonprogramming.net/data-analysis-python-pandas-tutorial-introduction/\n",
    "\n",
    "Opgeslagen doc: C:\\Users\\tinep\\Documents\n",
    "\n",
    "IDE = Integrated Development Environment\n",
    "\n",
    "Pandas with Python is as fast as C"
   ]
  },
  {
   "cell_type": "code",
   "execution_count": 1,
   "metadata": {},
   "outputs": [],
   "source": [
    "import pandas as pd"
   ]
  },
  {
   "cell_type": "code",
   "execution_count": 2,
   "metadata": {},
   "outputs": [],
   "source": [
    "import datetime"
   ]
  },
  {
   "cell_type": "code",
   "execution_count": 3,
   "metadata": {},
   "outputs": [],
   "source": [
    "# A solution without changing any files locally and bypass the version control of your package manager (pip) \n",
    "# is to define is_list_like like this:\n",
    "pd.core.common.is_list_like = pd.api.types.is_list_like "
   ]
  },
  {
   "cell_type": "code",
   "execution_count": 4,
   "metadata": {},
   "outputs": [],
   "source": [
    "import pandas_datareader.data as web"
   ]
  },
  {
   "cell_type": "markdown",
   "metadata": {},
   "source": [
    "Met Pandas ook gemakkelijk om tussen formats te switchen: import in csv, export in sql bvb."
   ]
  },
  {
   "cell_type": "code",
   "execution_count": 5,
   "metadata": {},
   "outputs": [],
   "source": [
    "start = datetime.datetime(2018, 7, 6)\n",
    "end = datetime.datetime.now()"
   ]
  },
  {
   "cell_type": "markdown",
   "metadata": {},
   "source": [
    "API = Application Programming Interface"
   ]
  },
  {
   "cell_type": "code",
   "execution_count": 6,
   "metadata": {},
   "outputs": [
    {
     "name": "stdout",
     "output_type": "stream",
     "text": [
      "                  close_price  high_price  interpolated   low_price  \\\n",
      "symbol begins_at                                                      \n",
      "MMM    2017-10-12  212.343400  212.392200         False  211.074700   \n",
      "       2017-10-13  212.470200  214.461100         False  211.572400   \n",
      "       2017-10-16  213.446100  213.455900         False  211.962800   \n",
      "       2017-10-17  212.499500  213.446100         False  211.250400   \n",
      "       2017-10-18  213.007000  213.368100         False  212.128700   \n",
      "       2017-10-19  213.953600  213.963400         False  212.226300   \n",
      "       2017-10-20  215.983400  215.983400         False  213.904800   \n",
      "       2017-10-23  216.207900  217.408200         False  215.866300   \n",
      "       2017-10-24  228.992000  233.139500         False  223.468500   \n",
      "       2017-10-25  231.949000  232.202700         False  228.299100   \n",
      "       2017-10-26  227.323300  233.042000         False  226.708400   \n",
      "       2017-10-27  229.079900  229.284800         False  226.942700   \n",
      "       2017-10-30  225.449500  228.025900         False  225.078700   \n",
      "       2017-10-31  224.639600  226.013100         False  224.268700   \n",
      "       2017-11-01  224.629800  226.171700         False  223.585600   \n",
      "       2017-11-02  226.630400  227.186600         False  224.015000   \n",
      "       2017-11-03  226.620600  226.971900         False  225.352000   \n",
      "       2017-11-06  224.756700  227.020700         False  224.600500   \n",
      "       2017-11-07  224.502900  225.205600         False  223.614900   \n",
      "       2017-11-08  224.288200  225.088500         False  223.849100   \n",
      "       2017-11-09  222.883000  223.868600         False  221.575300   \n",
      "       2017-11-10  221.965600  222.931800         False  220.706700   \n",
      "       2017-11-13  222.717100  222.922000         False  220.804300   \n",
      "       2017-11-14  223.800300  224.415100         False  221.282500   \n",
      "       2017-11-15  221.916800  223.000100         False  220.589600   \n",
      "       2017-11-16  223.888100  224.444400         False  222.297400   \n",
      "       2017-11-17  223.829600  224.376100         False  222.248600   \n",
      "       2017-11-20  225.908200  227.957600         False  224.019200   \n",
      "       2017-11-21  228.445500  230.026500         False  226.610900   \n",
      "       2017-11-22  227.136100  229.372400         False  226.959600   \n",
      "...                       ...         ...           ...         ...   \n",
      "       2018-08-30  210.220000  211.090000         False  209.230000   \n",
      "       2018-08-31  210.920000  211.720000         False  209.440000   \n",
      "       2018-09-04  208.600000  210.750000         False  207.545000   \n",
      "       2018-09-05  211.830000  211.910000         False  207.351200   \n",
      "       2018-09-06  212.740000  213.370000         False  211.070000   \n",
      "       2018-09-07  212.570000  212.970000         False  209.970000   \n",
      "       2018-09-10  212.930000  216.370000         False  212.860000   \n",
      "       2018-09-11  211.780000  212.220000         False  210.000000   \n",
      "       2018-09-12  206.710000  214.760000         False  205.900000   \n",
      "       2018-09-13  209.050000  209.140000         False  206.550000   \n",
      "       2018-09-14  207.880000  210.295000         False  207.150000   \n",
      "       2018-09-17  209.530000  210.190000         False  207.300000   \n",
      "       2018-09-18  211.530000  211.825000         False  208.430000   \n",
      "       2018-09-19  213.120000  214.139900         False  211.630000   \n",
      "       2018-09-20  215.270000  217.000000         False  213.260000   \n",
      "       2018-09-21  216.330000  217.870000         False  215.610000   \n",
      "       2018-09-24  213.510000  215.865000         False  212.690000   \n",
      "       2018-09-25  210.640000  214.130000         False  210.280000   \n",
      "       2018-09-26  211.070000  212.590000         False  210.640000   \n",
      "       2018-09-27  210.110000  212.870000         False  210.000000   \n",
      "       2018-09-28  210.710000  211.275000         False  208.870000   \n",
      "       2018-10-01  212.190000  213.400000         False  211.310000   \n",
      "       2018-10-02  215.710000  215.840000         False  212.100000   \n",
      "       2018-10-03  215.760000  217.340000         False  214.940000   \n",
      "       2018-10-04  213.840000  215.660000         False  212.035000   \n",
      "       2018-10-05  213.190000  215.030000         False  211.060000   \n",
      "       2018-10-08  214.370000  214.580000         False  212.260000   \n",
      "       2018-10-09  210.420000  213.110000         False  209.635000   \n",
      "       2018-10-10  202.150000  209.190000         False  201.550000   \n",
      "       2018-10-11  196.730000  202.910000         False  196.500000   \n",
      "\n",
      "                   open_price session   volume  \n",
      "symbol begins_at                                \n",
      "MMM    2017-10-12  211.377200     reg  1907960  \n",
      "       2017-10-13  213.553500     reg  1461703  \n",
      "       2017-10-16  212.450700     reg  1185228  \n",
      "       2017-10-17  213.221700     reg  2150810  \n",
      "       2017-10-18  212.275100     reg  1413913  \n",
      "       2017-10-19  213.221700     reg  1369000  \n",
      "       2017-10-20  214.646500     reg  1647816  \n",
      "       2017-10-23  216.412800     reg  2161339  \n",
      "       2017-10-24  223.478300     reg  6508396  \n",
      "       2017-10-25  229.343300     reg  4114532  \n",
      "       2017-10-26  232.515000     reg  3384956  \n",
      "       2017-10-27  228.582100     reg  2000365  \n",
      "       2017-10-30  228.025900     reg  2722556  \n",
      "       2017-10-31  225.800900     reg  1908157  \n",
      "       2017-11-01  225.430000     reg  1389916  \n",
      "       2017-11-02  224.688400     reg  1609484  \n",
      "       2017-11-03  225.976500     reg  1582704  \n",
      "       2017-11-06  226.620600     reg  1334883  \n",
      "       2017-11-07  224.825000     reg  1553571  \n",
      "       2017-11-08  224.298000     reg  1510323  \n",
      "       2017-11-09  223.029300     reg  1575764  \n",
      "       2017-11-10  221.985100     reg  1295822  \n",
      "       2017-11-13  221.263000     reg  1765322  \n",
      "       2017-11-14  222.639000     reg  1393185  \n",
      "       2017-11-15  222.570700     reg  1512124  \n",
      "       2017-11-16  222.297400     reg  1225143  \n",
      "       2017-11-17  222.922000     reg  1741844  \n",
      "       2017-11-20  224.356600     reg  1699956  \n",
      "       2017-11-21  226.610900     reg  2122633  \n",
      "       2017-11-22  228.587700     reg  1371820  \n",
      "...                       ...     ...      ...  \n",
      "       2018-08-30  209.710000     reg  2240787  \n",
      "       2018-08-31  209.570000     reg  1943454  \n",
      "       2018-09-04  210.550000     reg  2108469  \n",
      "       2018-09-05  208.290000     reg  1951460  \n",
      "       2018-09-06  212.000000     reg  2363472  \n",
      "       2018-09-07  212.240000     reg  2739156  \n",
      "       2018-09-10  213.680000     reg  2399745  \n",
      "       2018-09-11  211.360000     reg  1967488  \n",
      "       2018-09-12  212.300000     reg  4936955  \n",
      "       2018-09-13  207.340000     reg  2171302  \n",
      "       2018-09-14  208.840000     reg  1721586  \n",
      "       2018-09-17  207.460000     reg  1610393  \n",
      "       2018-09-18  210.240000     reg  1652891  \n",
      "       2018-09-19  211.770000     reg  1884485  \n",
      "       2018-09-20  214.700000     reg  2075050  \n",
      "       2018-09-21  217.320000     reg  5563733  \n",
      "       2018-09-24  215.390000     reg  2044993  \n",
      "       2018-09-25  214.130000     reg  2090572  \n",
      "       2018-09-26  211.490000     reg  1677749  \n",
      "       2018-09-27  212.000000     reg  1609765  \n",
      "       2018-09-28  209.530000     reg  2500188  \n",
      "       2018-10-01  212.400000     reg  1829020  \n",
      "       2018-10-02  212.380000     reg  1749361  \n",
      "       2018-10-03  216.000000     reg  2139342  \n",
      "       2018-10-04  214.850000     reg  1682524  \n",
      "       2018-10-05  214.350000     reg  2140502  \n",
      "       2018-10-08  213.130000     reg  1666709  \n",
      "       2018-10-09  212.680000     reg  2947478  \n",
      "       2018-10-10  209.190000     reg  3525211  \n",
      "       2018-10-11  201.150000     reg  3497220  \n",
      "\n",
      "[252 rows x 7 columns]\n"
     ]
    }
   ],
   "source": [
    "# df = web.DataReader(\"XOM\", \"morningstar\", start, end)\n",
    "# I have confirmation from Morningstar that this service has been discontinued, it is not a temporary outage.\n",
    "# For now, I would recommend using other sources such as \n",
    "# AlphaVantage, Quandl, or IEX. The simplest is IEX, which does not require an API key\n",
    "\n",
    "df = web.DataReader('MMM', 'robinhood', start, end)\n",
    "print(df)"
   ]
  },
  {
   "cell_type": "code",
   "execution_count": 21,
   "metadata": {},
   "outputs": [
    {
     "name": "stdout",
     "output_type": "stream",
     "text": [
      "                  close_price  high_price  interpolated   low_price  \\\n",
      "symbol begins_at                                                      \n",
      "MMM    2017-10-06  211.299200  211.318700         False  210.079300   \n",
      "       2017-10-09  211.455300  211.972500         False  210.489200   \n",
      "       2017-10-10  211.523600  212.353100         False  211.328500   \n",
      "       2017-10-11  211.289400  211.631000         False  209.484000   \n",
      "       2017-10-12  212.343400  212.392200         False  211.074700   \n",
      "       2017-10-13  212.470200  214.461100         False  211.572400   \n",
      "       2017-10-16  213.446100  213.455900         False  211.962800   \n",
      "       2017-10-17  212.499500  213.446100         False  211.250400   \n",
      "       2017-10-18  213.007000  213.368100         False  212.128700   \n",
      "       2017-10-19  213.953600  213.963400         False  212.226300   \n",
      "       2017-10-20  215.983400  215.983400         False  213.904800   \n",
      "       2017-10-23  216.207900  217.408200         False  215.866300   \n",
      "       2017-10-24  228.992000  233.139500         False  223.468500   \n",
      "       2017-10-25  231.949000  232.202700         False  228.299100   \n",
      "       2017-10-26  227.323300  233.042000         False  226.708400   \n",
      "       2017-10-27  229.079900  229.284800         False  226.942700   \n",
      "       2017-10-30  225.449500  228.025900         False  225.078700   \n",
      "       2017-10-31  224.639600  226.013100         False  224.268700   \n",
      "       2017-11-01  224.629800  226.171700         False  223.585600   \n",
      "       2017-11-02  226.630400  227.186600         False  224.015000   \n",
      "       2017-11-03  226.620600  226.971900         False  225.352000   \n",
      "       2017-11-06  224.756700  227.020700         False  224.600500   \n",
      "       2017-11-07  224.502900  225.205600         False  223.614900   \n",
      "       2017-11-08  224.288200  225.088500         False  223.849100   \n",
      "       2017-11-09  222.883000  223.868600         False  221.575300   \n",
      "       2017-11-10  221.965600  222.931800         False  220.706700   \n",
      "       2017-11-13  222.717100  222.922000         False  220.804300   \n",
      "       2017-11-14  223.800300  224.415100         False  221.282500   \n",
      "       2017-11-15  221.916800  223.000100         False  220.589600   \n",
      "       2017-11-16  223.888100  224.444400         False  222.297400   \n",
      "...                       ...         ...           ...         ...   \n",
      "       2018-08-24  205.290000  205.490000         False  203.070100   \n",
      "       2018-08-27  208.330000  208.500000         False  205.850000   \n",
      "       2018-08-28  209.430000  210.120000         False  208.483500   \n",
      "       2018-08-29  210.460000  210.970000         False  208.510000   \n",
      "       2018-08-30  210.220000  211.090000         False  209.230000   \n",
      "       2018-08-31  210.920000  211.720000         False  209.440000   \n",
      "       2018-09-04  208.600000  210.750000         False  207.545000   \n",
      "       2018-09-05  211.830000  211.910000         False  207.351200   \n",
      "       2018-09-06  212.740000  213.370000         False  211.070000   \n",
      "       2018-09-07  212.570000  212.970000         False  209.970000   \n",
      "       2018-09-10  212.930000  216.370000         False  212.860000   \n",
      "       2018-09-11  211.780000  212.220000         False  210.000000   \n",
      "       2018-09-12  206.710000  214.760000         False  205.900000   \n",
      "       2018-09-13  209.050000  209.140000         False  206.550000   \n",
      "       2018-09-14  207.880000  210.295000         False  207.150000   \n",
      "       2018-09-17  209.530000  210.190000         False  207.300000   \n",
      "       2018-09-18  211.530000  211.825000         False  208.430000   \n",
      "       2018-09-19  213.120000  214.139900         False  211.630000   \n",
      "       2018-09-20  215.270000  217.000000         False  213.260000   \n",
      "       2018-09-21  216.330000  217.870000         False  215.610000   \n",
      "       2018-09-24  213.510000  215.865000         False  212.690000   \n",
      "       2018-09-25  210.640000  214.130000         False  210.280000   \n",
      "       2018-09-26  211.070000  212.590000         False  210.640000   \n",
      "       2018-09-27  210.110000  212.870000         False  210.000000   \n",
      "       2018-09-28  210.710000  211.275000         False  208.870000   \n",
      "       2018-10-01  212.190000  213.400000         False  211.310000   \n",
      "       2018-10-02  215.710000  215.840000         False  212.100000   \n",
      "       2018-10-03  215.760000  217.340000         False  214.940000   \n",
      "       2018-10-04  213.840000  215.660000         False  212.035000   \n",
      "       2018-10-05  213.190000  215.030000         False  211.060000   \n",
      "\n",
      "                   open_price session   volume  \n",
      "symbol begins_at                                \n",
      "MMM    2017-10-06  210.791700     reg  1650834  \n",
      "       2017-10-09  210.752700     reg  1054620  \n",
      "       2017-10-10  212.138400     reg  1171324  \n",
      "       2017-10-11  209.757300     reg  2052903  \n",
      "       2017-10-12  211.377200     reg  1907960  \n",
      "       2017-10-13  213.553500     reg  1461703  \n",
      "       2017-10-16  212.450700     reg  1185228  \n",
      "       2017-10-17  213.221700     reg  2150810  \n",
      "       2017-10-18  212.275100     reg  1413913  \n",
      "       2017-10-19  213.221700     reg  1369000  \n",
      "       2017-10-20  214.646500     reg  1647816  \n",
      "       2017-10-23  216.412800     reg  2161339  \n",
      "       2017-10-24  223.478300     reg  6508396  \n",
      "       2017-10-25  229.343300     reg  4114532  \n",
      "       2017-10-26  232.515000     reg  3384956  \n",
      "       2017-10-27  228.582100     reg  2000365  \n",
      "       2017-10-30  228.025900     reg  2722556  \n",
      "       2017-10-31  225.800900     reg  1908157  \n",
      "       2017-11-01  225.430000     reg  1389916  \n",
      "       2017-11-02  224.688400     reg  1609484  \n",
      "       2017-11-03  225.976500     reg  1582704  \n",
      "       2017-11-06  226.620600     reg  1334883  \n",
      "       2017-11-07  224.825000     reg  1553571  \n",
      "       2017-11-08  224.298000     reg  1510323  \n",
      "       2017-11-09  223.029300     reg  1575764  \n",
      "       2017-11-10  221.985100     reg  1295822  \n",
      "       2017-11-13  221.263000     reg  1765322  \n",
      "       2017-11-14  222.639000     reg  1393185  \n",
      "       2017-11-15  222.570700     reg  1512124  \n",
      "       2017-11-16  222.297400     reg  1225143  \n",
      "...                       ...     ...      ...  \n",
      "       2018-08-24  203.280000     reg  1676634  \n",
      "       2018-08-27  206.180000     reg  1777219  \n",
      "       2018-08-28  208.970000     reg  2136657  \n",
      "       2018-08-29  209.170000     reg  2110317  \n",
      "       2018-08-30  209.710000     reg  2240787  \n",
      "       2018-08-31  209.570000     reg  1943454  \n",
      "       2018-09-04  210.550000     reg  2108469  \n",
      "       2018-09-05  208.290000     reg  1951460  \n",
      "       2018-09-06  212.000000     reg  2363472  \n",
      "       2018-09-07  212.240000     reg  2739156  \n",
      "       2018-09-10  213.680000     reg  2399745  \n",
      "       2018-09-11  211.360000     reg  1967488  \n",
      "       2018-09-12  212.300000     reg  4936955  \n",
      "       2018-09-13  207.340000     reg  2171302  \n",
      "       2018-09-14  208.840000     reg  1721586  \n",
      "       2018-09-17  207.460000     reg  1610393  \n",
      "       2018-09-18  210.240000     reg  1652891  \n",
      "       2018-09-19  211.770000     reg  1884485  \n",
      "       2018-09-20  214.700000     reg  2075050  \n",
      "       2018-09-21  217.320000     reg  5563733  \n",
      "       2018-09-24  215.390000     reg  2044993  \n",
      "       2018-09-25  214.130000     reg  2090572  \n",
      "       2018-09-26  211.490000     reg  1677749  \n",
      "       2018-09-27  212.000000     reg  1609765  \n",
      "       2018-09-28  209.530000     reg  2500188  \n",
      "       2018-10-01  212.400000     reg  1829020  \n",
      "       2018-10-02  212.380000     reg  1749361  \n",
      "       2018-10-03  216.000000     reg  2139342  \n",
      "       2018-10-04  214.850000     reg  1682524  \n",
      "       2018-10-05  214.350000     reg  2140502  \n",
      "\n",
      "[252 rows x 7 columns]\n"
     ]
    }
   ],
   "source": [
    "print(df)"
   ]
  },
  {
   "cell_type": "code",
   "execution_count": 28,
   "metadata": {},
   "outputs": [
    {
     "data": {
      "text/html": [
       "<div>\n",
       "<style scoped>\n",
       "    .dataframe tbody tr th:only-of-type {\n",
       "        vertical-align: middle;\n",
       "    }\n",
       "\n",
       "    .dataframe tbody tr th {\n",
       "        vertical-align: top;\n",
       "    }\n",
       "\n",
       "    .dataframe thead th {\n",
       "        text-align: right;\n",
       "    }\n",
       "</style>\n",
       "<table border=\"1\" class=\"dataframe\">\n",
       "  <thead>\n",
       "    <tr style=\"text-align: right;\">\n",
       "      <th></th>\n",
       "      <th></th>\n",
       "      <th>close_price</th>\n",
       "      <th>high_price</th>\n",
       "      <th>interpolated</th>\n",
       "      <th>low_price</th>\n",
       "      <th>open_price</th>\n",
       "      <th>session</th>\n",
       "      <th>volume</th>\n",
       "    </tr>\n",
       "    <tr>\n",
       "      <th>symbol</th>\n",
       "      <th>begins_at</th>\n",
       "      <th></th>\n",
       "      <th></th>\n",
       "      <th></th>\n",
       "      <th></th>\n",
       "      <th></th>\n",
       "      <th></th>\n",
       "      <th></th>\n",
       "    </tr>\n",
       "  </thead>\n",
       "  <tbody>\n",
       "    <tr>\n",
       "      <th rowspan=\"4\" valign=\"top\">XOM</th>\n",
       "      <th>2017-10-09</th>\n",
       "      <td>79.631100</td>\n",
       "      <td>79.776700</td>\n",
       "      <td>False</td>\n",
       "      <td>79.369000</td>\n",
       "      <td>79.446700</td>\n",
       "      <td>reg</td>\n",
       "      <td>7489884</td>\n",
       "    </tr>\n",
       "    <tr>\n",
       "      <th>2017-10-10</th>\n",
       "      <td>79.854400</td>\n",
       "      <td>80.315500</td>\n",
       "      <td>False</td>\n",
       "      <td>79.689400</td>\n",
       "      <td>79.932100</td>\n",
       "      <td>reg</td>\n",
       "      <td>7218534</td>\n",
       "    </tr>\n",
       "    <tr>\n",
       "      <th>2017-10-11</th>\n",
       "      <td>80.184500</td>\n",
       "      <td>80.320400</td>\n",
       "      <td>False</td>\n",
       "      <td>79.737900</td>\n",
       "      <td>79.980600</td>\n",
       "      <td>reg</td>\n",
       "      <td>7023706</td>\n",
       "    </tr>\n",
       "    <tr>\n",
       "      <th>2017-10-12</th>\n",
       "      <td>80.019400</td>\n",
       "      <td>80.087400</td>\n",
       "      <td>False</td>\n",
       "      <td>79.767000</td>\n",
       "      <td>79.902900</td>\n",
       "      <td>reg</td>\n",
       "      <td>6647544</td>\n",
       "    </tr>\n",
       "  </tbody>\n",
       "</table>\n",
       "</div>"
      ],
      "text/plain": [
       "                  close_price high_price  interpolated  low_price open_price  \\\n",
       "symbol begins_at                                                               \n",
       "XOM    2017-10-09   79.631100  79.776700         False  79.369000  79.446700   \n",
       "       2017-10-10   79.854400  80.315500         False  79.689400  79.932100   \n",
       "       2017-10-11   80.184500  80.320400         False  79.737900  79.980600   \n",
       "       2017-10-12   80.019400  80.087400         False  79.767000  79.902900   \n",
       "\n",
       "                  session   volume  \n",
       "symbol begins_at                    \n",
       "XOM    2017-10-09     reg  7489884  \n",
       "       2017-10-10     reg  7218534  \n",
       "       2017-10-11     reg  7023706  \n",
       "       2017-10-12     reg  6647544  "
      ]
     },
     "execution_count": 28,
     "metadata": {},
     "output_type": "execute_result"
    }
   ],
   "source": [
    "df = web.DataReader('XOM', 'robinhood', start, end)\n",
    "df.head(4)"
   ]
  },
  {
   "cell_type": "code",
   "execution_count": 33,
   "metadata": {},
   "outputs": [
    {
     "data": {
      "text/html": [
       "<div>\n",
       "<style scoped>\n",
       "    .dataframe tbody tr th:only-of-type {\n",
       "        vertical-align: middle;\n",
       "    }\n",
       "\n",
       "    .dataframe tbody tr th {\n",
       "        vertical-align: top;\n",
       "    }\n",
       "\n",
       "    .dataframe thead th {\n",
       "        text-align: right;\n",
       "    }\n",
       "</style>\n",
       "<table border=\"1\" class=\"dataframe\">\n",
       "  <thead>\n",
       "    <tr style=\"text-align: right;\">\n",
       "      <th></th>\n",
       "      <th></th>\n",
       "      <th>close_price</th>\n",
       "      <th>high_price</th>\n",
       "      <th>interpolated</th>\n",
       "      <th>low_price</th>\n",
       "      <th>open_price</th>\n",
       "      <th>session</th>\n",
       "      <th>volume</th>\n",
       "    </tr>\n",
       "    <tr>\n",
       "      <th>symbol</th>\n",
       "      <th>begins_at</th>\n",
       "      <th></th>\n",
       "      <th></th>\n",
       "      <th></th>\n",
       "      <th></th>\n",
       "      <th></th>\n",
       "      <th></th>\n",
       "      <th></th>\n",
       "    </tr>\n",
       "  </thead>\n",
       "  <tbody>\n",
       "    <tr>\n",
       "      <th rowspan=\"5\" valign=\"top\">AAPL</th>\n",
       "      <th>2017-10-06</th>\n",
       "      <td>152.986800</td>\n",
       "      <td>153.174000</td>\n",
       "      <td>False</td>\n",
       "      <td>152.257800</td>\n",
       "      <td>152.661700</td>\n",
       "      <td>reg</td>\n",
       "      <td>17407558</td>\n",
       "    </tr>\n",
       "    <tr>\n",
       "      <th>2017-10-09</th>\n",
       "      <td>153.518800</td>\n",
       "      <td>154.395500</td>\n",
       "      <td>False</td>\n",
       "      <td>153.169100</td>\n",
       "      <td>153.489200</td>\n",
       "      <td>reg</td>\n",
       "      <td>16262923</td>\n",
       "    </tr>\n",
       "    <tr>\n",
       "      <th>2017-10-10</th>\n",
       "      <td>153.577900</td>\n",
       "      <td>155.646600</td>\n",
       "      <td>False</td>\n",
       "      <td>152.789800</td>\n",
       "      <td>153.730600</td>\n",
       "      <td>reg</td>\n",
       "      <td>15617014</td>\n",
       "    </tr>\n",
       "    <tr>\n",
       "      <th>2017-10-11</th>\n",
       "      <td>154.218200</td>\n",
       "      <td>154.641800</td>\n",
       "      <td>False</td>\n",
       "      <td>153.430100</td>\n",
       "      <td>153.646800</td>\n",
       "      <td>reg</td>\n",
       "      <td>16905640</td>\n",
       "    </tr>\n",
       "    <tr>\n",
       "      <th>2017-10-12</th>\n",
       "      <td>153.676400</td>\n",
       "      <td>155.026000</td>\n",
       "      <td>False</td>\n",
       "      <td>153.410300</td>\n",
       "      <td>154.021200</td>\n",
       "      <td>reg</td>\n",
       "      <td>16125054</td>\n",
       "    </tr>\n",
       "  </tbody>\n",
       "</table>\n",
       "</div>"
      ],
      "text/plain": [
       "                  close_price  high_price  interpolated   low_price  \\\n",
       "symbol begins_at                                                      \n",
       "AAPL   2017-10-06  152.986800  153.174000         False  152.257800   \n",
       "       2017-10-09  153.518800  154.395500         False  153.169100   \n",
       "       2017-10-10  153.577900  155.646600         False  152.789800   \n",
       "       2017-10-11  154.218200  154.641800         False  153.430100   \n",
       "       2017-10-12  153.676400  155.026000         False  153.410300   \n",
       "\n",
       "                   open_price session    volume  \n",
       "symbol begins_at                                 \n",
       "AAPL   2017-10-06  152.661700     reg  17407558  \n",
       "       2017-10-09  153.489200     reg  16262923  \n",
       "       2017-10-10  153.730600     reg  15617014  \n",
       "       2017-10-11  153.646800     reg  16905640  \n",
       "       2017-10-12  154.021200     reg  16125054  "
      ]
     },
     "execution_count": 33,
     "metadata": {},
     "output_type": "execute_result"
    }
   ],
   "source": [
    "df = web.DataReader('AAPL', 'robinhood', start, end)\n",
    "df.head(5)"
   ]
  },
  {
   "cell_type": "markdown",
   "metadata": {},
   "source": [
    "Een ticker symbol is een afkorting waarmee publiek verhandelde aandelen op een specifieke effectenbeurs worden aangeduid. Om verwarring te vermijden, krijgt elk aandeel een unieke code.\n",
    "\n",
    "Bvb. AAP = Apple, F = Ford Motor Company, XOM = Exxon Mobile Company "
   ]
  },
  {
   "cell_type": "markdown",
   "metadata": {},
   "source": [
    "### Cleaning rows & columns \n",
    "\n",
    "df.reset_index(inplace=True)\n",
    "\n",
    "df.set_index(\"Date\", inplace=True)\n",
    "\n",
    "df = df.drop(\"Symbol\", axis=1)\n",
    "\n",
    "print(df.head())"
   ]
  },
  {
   "cell_type": "code",
   "execution_count": 9,
   "metadata": {},
   "outputs": [
    {
     "data": {
      "text/plain": [
       "('MMM', Timestamp('2017-10-19 00:00:00'))"
      ]
     },
     "execution_count": 9,
     "metadata": {},
     "output_type": "execute_result"
    }
   ],
   "source": [
    "df.index[5]"
   ]
  },
  {
   "cell_type": "code",
   "execution_count": 12,
   "metadata": {},
   "outputs": [
    {
     "name": "stdout",
     "output_type": "stream",
     "text": [
      "           close_price  high_price  interpolated   low_price  open_price  \\\n",
      "begins_at                                                                  \n",
      "2017-10-12  212.343400  212.392200         False  211.074700  211.377200   \n",
      "2017-10-13  212.470200  214.461100         False  211.572400  213.553500   \n",
      "2017-10-16  213.446100  213.455900         False  211.962800  212.450700   \n",
      "2017-10-17  212.499500  213.446100         False  211.250400  213.221700   \n",
      "2017-10-18  213.007000  213.368100         False  212.128700  212.275100   \n",
      "\n",
      "           session   volume  \n",
      "begins_at                    \n",
      "2017-10-12     reg  1907960  \n",
      "2017-10-13     reg  1461703  \n",
      "2017-10-16     reg  1185228  \n",
      "2017-10-17     reg  2150810  \n",
      "2017-10-18     reg  1413913  \n"
     ]
    }
   ],
   "source": [
    "df.reset_index(inplace=True) # make index start from 0\n",
    "df.set_index(\"begins_at\", inplace=True)\n",
    "df = df.drop(\"symbol\", axis=1)\n",
    "\n",
    "# df.reset_index(drop=True) # drop original index\n",
    "#df.reset_index(inplace=True) #\n",
    "#df.set_index(\"begins_at\", inplace=True)\n",
    "#df = df.drop(\"symbol\", axis=1)\n",
    "\n",
    "print(df.head())"
   ]
  },
  {
   "cell_type": "code",
   "execution_count": 41,
   "metadata": {},
   "outputs": [
    {
     "data": {
      "text/plain": [
       "['high_price', 'interpolated', 'low_price', 'open_price', 'session', 'volume']"
      ]
     },
     "execution_count": 41,
     "metadata": {},
     "output_type": "execute_result"
    }
   ],
   "source": [
    "list(df) # get list of all column names of pandas dataset"
   ]
  },
  {
   "cell_type": "code",
   "execution_count": 9,
   "metadata": {},
   "outputs": [
    {
     "data": {
      "text/plain": [
       "array([('MMM', Timestamp('2017-10-09 00:00:00')),\n",
       "       ('MMM', Timestamp('2017-10-10 00:00:00')),\n",
       "       ('MMM', Timestamp('2017-10-11 00:00:00')),\n",
       "       ('MMM', Timestamp('2017-10-12 00:00:00')),\n",
       "       ('MMM', Timestamp('2017-10-13 00:00:00')),\n",
       "       ('MMM', Timestamp('2017-10-16 00:00:00')),\n",
       "       ('MMM', Timestamp('2017-10-17 00:00:00')),\n",
       "       ('MMM', Timestamp('2017-10-18 00:00:00')),\n",
       "       ('MMM', Timestamp('2017-10-19 00:00:00')),\n",
       "       ('MMM', Timestamp('2017-10-20 00:00:00')),\n",
       "       ('MMM', Timestamp('2017-10-23 00:00:00')),\n",
       "       ('MMM', Timestamp('2017-10-24 00:00:00')),\n",
       "       ('MMM', Timestamp('2017-10-25 00:00:00')),\n",
       "       ('MMM', Timestamp('2017-10-26 00:00:00')),\n",
       "       ('MMM', Timestamp('2017-10-27 00:00:00')),\n",
       "       ('MMM', Timestamp('2017-10-30 00:00:00')),\n",
       "       ('MMM', Timestamp('2017-10-31 00:00:00')),\n",
       "       ('MMM', Timestamp('2017-11-01 00:00:00')),\n",
       "       ('MMM', Timestamp('2017-11-02 00:00:00')),\n",
       "       ('MMM', Timestamp('2017-11-03 00:00:00')),\n",
       "       ('MMM', Timestamp('2017-11-06 00:00:00')),\n",
       "       ('MMM', Timestamp('2017-11-07 00:00:00')),\n",
       "       ('MMM', Timestamp('2017-11-08 00:00:00')),\n",
       "       ('MMM', Timestamp('2017-11-09 00:00:00')),\n",
       "       ('MMM', Timestamp('2017-11-10 00:00:00')),\n",
       "       ('MMM', Timestamp('2017-11-13 00:00:00')),\n",
       "       ('MMM', Timestamp('2017-11-14 00:00:00')),\n",
       "       ('MMM', Timestamp('2017-11-15 00:00:00')),\n",
       "       ('MMM', Timestamp('2017-11-16 00:00:00')),\n",
       "       ('MMM', Timestamp('2017-11-17 00:00:00')),\n",
       "       ('MMM', Timestamp('2017-11-20 00:00:00')),\n",
       "       ('MMM', Timestamp('2017-11-21 00:00:00')),\n",
       "       ('MMM', Timestamp('2017-11-22 00:00:00')),\n",
       "       ('MMM', Timestamp('2017-11-24 00:00:00')),\n",
       "       ('MMM', Timestamp('2017-11-27 00:00:00')),\n",
       "       ('MMM', Timestamp('2017-11-28 00:00:00')),\n",
       "       ('MMM', Timestamp('2017-11-29 00:00:00')),\n",
       "       ('MMM', Timestamp('2017-11-30 00:00:00')),\n",
       "       ('MMM', Timestamp('2017-12-01 00:00:00')),\n",
       "       ('MMM', Timestamp('2017-12-04 00:00:00')),\n",
       "       ('MMM', Timestamp('2017-12-05 00:00:00')),\n",
       "       ('MMM', Timestamp('2017-12-06 00:00:00')),\n",
       "       ('MMM', Timestamp('2017-12-07 00:00:00')),\n",
       "       ('MMM', Timestamp('2017-12-08 00:00:00')),\n",
       "       ('MMM', Timestamp('2017-12-11 00:00:00')),\n",
       "       ('MMM', Timestamp('2017-12-12 00:00:00')),\n",
       "       ('MMM', Timestamp('2017-12-13 00:00:00')),\n",
       "       ('MMM', Timestamp('2017-12-14 00:00:00')),\n",
       "       ('MMM', Timestamp('2017-12-15 00:00:00')),\n",
       "       ('MMM', Timestamp('2017-12-18 00:00:00')),\n",
       "       ('MMM', Timestamp('2017-12-19 00:00:00')),\n",
       "       ('MMM', Timestamp('2017-12-20 00:00:00')),\n",
       "       ('MMM', Timestamp('2017-12-21 00:00:00')),\n",
       "       ('MMM', Timestamp('2017-12-22 00:00:00')),\n",
       "       ('MMM', Timestamp('2017-12-26 00:00:00')),\n",
       "       ('MMM', Timestamp('2017-12-27 00:00:00')),\n",
       "       ('MMM', Timestamp('2017-12-28 00:00:00')),\n",
       "       ('MMM', Timestamp('2017-12-29 00:00:00')),\n",
       "       ('MMM', Timestamp('2018-01-02 00:00:00')),\n",
       "       ('MMM', Timestamp('2018-01-03 00:00:00')),\n",
       "       ('MMM', Timestamp('2018-01-04 00:00:00')),\n",
       "       ('MMM', Timestamp('2018-01-05 00:00:00')),\n",
       "       ('MMM', Timestamp('2018-01-08 00:00:00')),\n",
       "       ('MMM', Timestamp('2018-01-09 00:00:00')),\n",
       "       ('MMM', Timestamp('2018-01-10 00:00:00')),\n",
       "       ('MMM', Timestamp('2018-01-11 00:00:00')),\n",
       "       ('MMM', Timestamp('2018-01-12 00:00:00')),\n",
       "       ('MMM', Timestamp('2018-01-16 00:00:00')),\n",
       "       ('MMM', Timestamp('2018-01-17 00:00:00')),\n",
       "       ('MMM', Timestamp('2018-01-18 00:00:00')),\n",
       "       ('MMM', Timestamp('2018-01-19 00:00:00')),\n",
       "       ('MMM', Timestamp('2018-01-22 00:00:00')),\n",
       "       ('MMM', Timestamp('2018-01-23 00:00:00')),\n",
       "       ('MMM', Timestamp('2018-01-24 00:00:00')),\n",
       "       ('MMM', Timestamp('2018-01-25 00:00:00')),\n",
       "       ('MMM', Timestamp('2018-01-26 00:00:00')),\n",
       "       ('MMM', Timestamp('2018-01-29 00:00:00')),\n",
       "       ('MMM', Timestamp('2018-01-30 00:00:00')),\n",
       "       ('MMM', Timestamp('2018-01-31 00:00:00')),\n",
       "       ('MMM', Timestamp('2018-02-01 00:00:00')),\n",
       "       ('MMM', Timestamp('2018-02-02 00:00:00')),\n",
       "       ('MMM', Timestamp('2018-02-05 00:00:00')),\n",
       "       ('MMM', Timestamp('2018-02-06 00:00:00')),\n",
       "       ('MMM', Timestamp('2018-02-07 00:00:00')),\n",
       "       ('MMM', Timestamp('2018-02-08 00:00:00')),\n",
       "       ('MMM', Timestamp('2018-02-09 00:00:00')),\n",
       "       ('MMM', Timestamp('2018-02-12 00:00:00')),\n",
       "       ('MMM', Timestamp('2018-02-13 00:00:00')),\n",
       "       ('MMM', Timestamp('2018-02-14 00:00:00')),\n",
       "       ('MMM', Timestamp('2018-02-15 00:00:00')),\n",
       "       ('MMM', Timestamp('2018-02-16 00:00:00')),\n",
       "       ('MMM', Timestamp('2018-02-20 00:00:00')),\n",
       "       ('MMM', Timestamp('2018-02-21 00:00:00')),\n",
       "       ('MMM', Timestamp('2018-02-22 00:00:00')),\n",
       "       ('MMM', Timestamp('2018-02-23 00:00:00')),\n",
       "       ('MMM', Timestamp('2018-02-26 00:00:00')),\n",
       "       ('MMM', Timestamp('2018-02-27 00:00:00')),\n",
       "       ('MMM', Timestamp('2018-02-28 00:00:00')),\n",
       "       ('MMM', Timestamp('2018-03-01 00:00:00')),\n",
       "       ('MMM', Timestamp('2018-03-02 00:00:00')),\n",
       "       ('MMM', Timestamp('2018-03-05 00:00:00')),\n",
       "       ('MMM', Timestamp('2018-03-06 00:00:00')),\n",
       "       ('MMM', Timestamp('2018-03-07 00:00:00')),\n",
       "       ('MMM', Timestamp('2018-03-08 00:00:00')),\n",
       "       ('MMM', Timestamp('2018-03-09 00:00:00')),\n",
       "       ('MMM', Timestamp('2018-03-12 00:00:00')),\n",
       "       ('MMM', Timestamp('2018-03-13 00:00:00')),\n",
       "       ('MMM', Timestamp('2018-03-14 00:00:00')),\n",
       "       ('MMM', Timestamp('2018-03-15 00:00:00')),\n",
       "       ('MMM', Timestamp('2018-03-16 00:00:00')),\n",
       "       ('MMM', Timestamp('2018-03-19 00:00:00')),\n",
       "       ('MMM', Timestamp('2018-03-20 00:00:00')),\n",
       "       ('MMM', Timestamp('2018-03-21 00:00:00')),\n",
       "       ('MMM', Timestamp('2018-03-22 00:00:00')),\n",
       "       ('MMM', Timestamp('2018-03-23 00:00:00')),\n",
       "       ('MMM', Timestamp('2018-03-26 00:00:00')),\n",
       "       ('MMM', Timestamp('2018-03-27 00:00:00')),\n",
       "       ('MMM', Timestamp('2018-03-28 00:00:00')),\n",
       "       ('MMM', Timestamp('2018-03-29 00:00:00')),\n",
       "       ('MMM', Timestamp('2018-04-02 00:00:00')),\n",
       "       ('MMM', Timestamp('2018-04-03 00:00:00')),\n",
       "       ('MMM', Timestamp('2018-04-04 00:00:00')),\n",
       "       ('MMM', Timestamp('2018-04-05 00:00:00')),\n",
       "       ('MMM', Timestamp('2018-04-06 00:00:00')),\n",
       "       ('MMM', Timestamp('2018-04-09 00:00:00')),\n",
       "       ('MMM', Timestamp('2018-04-10 00:00:00')),\n",
       "       ('MMM', Timestamp('2018-04-11 00:00:00')),\n",
       "       ('MMM', Timestamp('2018-04-12 00:00:00')),\n",
       "       ('MMM', Timestamp('2018-04-13 00:00:00')),\n",
       "       ('MMM', Timestamp('2018-04-16 00:00:00')),\n",
       "       ('MMM', Timestamp('2018-04-17 00:00:00')),\n",
       "       ('MMM', Timestamp('2018-04-18 00:00:00')),\n",
       "       ('MMM', Timestamp('2018-04-19 00:00:00')),\n",
       "       ('MMM', Timestamp('2018-04-20 00:00:00')),\n",
       "       ('MMM', Timestamp('2018-04-23 00:00:00')),\n",
       "       ('MMM', Timestamp('2018-04-24 00:00:00')),\n",
       "       ('MMM', Timestamp('2018-04-25 00:00:00')),\n",
       "       ('MMM', Timestamp('2018-04-26 00:00:00')),\n",
       "       ('MMM', Timestamp('2018-04-27 00:00:00')),\n",
       "       ('MMM', Timestamp('2018-04-30 00:00:00')),\n",
       "       ('MMM', Timestamp('2018-05-01 00:00:00')),\n",
       "       ('MMM', Timestamp('2018-05-02 00:00:00')),\n",
       "       ('MMM', Timestamp('2018-05-03 00:00:00')),\n",
       "       ('MMM', Timestamp('2018-05-04 00:00:00')),\n",
       "       ('MMM', Timestamp('2018-05-07 00:00:00')),\n",
       "       ('MMM', Timestamp('2018-05-08 00:00:00')),\n",
       "       ('MMM', Timestamp('2018-05-09 00:00:00')),\n",
       "       ('MMM', Timestamp('2018-05-10 00:00:00')),\n",
       "       ('MMM', Timestamp('2018-05-11 00:00:00')),\n",
       "       ('MMM', Timestamp('2018-05-14 00:00:00')),\n",
       "       ('MMM', Timestamp('2018-05-15 00:00:00')),\n",
       "       ('MMM', Timestamp('2018-05-16 00:00:00')),\n",
       "       ('MMM', Timestamp('2018-05-17 00:00:00')),\n",
       "       ('MMM', Timestamp('2018-05-18 00:00:00')),\n",
       "       ('MMM', Timestamp('2018-05-21 00:00:00')),\n",
       "       ('MMM', Timestamp('2018-05-22 00:00:00')),\n",
       "       ('MMM', Timestamp('2018-05-23 00:00:00')),\n",
       "       ('MMM', Timestamp('2018-05-24 00:00:00')),\n",
       "       ('MMM', Timestamp('2018-05-25 00:00:00')),\n",
       "       ('MMM', Timestamp('2018-05-29 00:00:00')),\n",
       "       ('MMM', Timestamp('2018-05-30 00:00:00')),\n",
       "       ('MMM', Timestamp('2018-05-31 00:00:00')),\n",
       "       ('MMM', Timestamp('2018-06-01 00:00:00')),\n",
       "       ('MMM', Timestamp('2018-06-04 00:00:00')),\n",
       "       ('MMM', Timestamp('2018-06-05 00:00:00')),\n",
       "       ('MMM', Timestamp('2018-06-06 00:00:00')),\n",
       "       ('MMM', Timestamp('2018-06-07 00:00:00')),\n",
       "       ('MMM', Timestamp('2018-06-08 00:00:00')),\n",
       "       ('MMM', Timestamp('2018-06-11 00:00:00')),\n",
       "       ('MMM', Timestamp('2018-06-12 00:00:00')),\n",
       "       ('MMM', Timestamp('2018-06-13 00:00:00')),\n",
       "       ('MMM', Timestamp('2018-06-14 00:00:00')),\n",
       "       ('MMM', Timestamp('2018-06-15 00:00:00')),\n",
       "       ('MMM', Timestamp('2018-06-18 00:00:00')),\n",
       "       ('MMM', Timestamp('2018-06-19 00:00:00')),\n",
       "       ('MMM', Timestamp('2018-06-20 00:00:00')),\n",
       "       ('MMM', Timestamp('2018-06-21 00:00:00')),\n",
       "       ('MMM', Timestamp('2018-06-22 00:00:00')),\n",
       "       ('MMM', Timestamp('2018-06-25 00:00:00')),\n",
       "       ('MMM', Timestamp('2018-06-26 00:00:00')),\n",
       "       ('MMM', Timestamp('2018-06-27 00:00:00')),\n",
       "       ('MMM', Timestamp('2018-06-28 00:00:00')),\n",
       "       ('MMM', Timestamp('2018-06-29 00:00:00')),\n",
       "       ('MMM', Timestamp('2018-07-02 00:00:00')),\n",
       "       ('MMM', Timestamp('2018-07-03 00:00:00')),\n",
       "       ('MMM', Timestamp('2018-07-05 00:00:00')),\n",
       "       ('MMM', Timestamp('2018-07-06 00:00:00')),\n",
       "       ('MMM', Timestamp('2018-07-09 00:00:00')),\n",
       "       ('MMM', Timestamp('2018-07-10 00:00:00')),\n",
       "       ('MMM', Timestamp('2018-07-11 00:00:00')),\n",
       "       ('MMM', Timestamp('2018-07-12 00:00:00')),\n",
       "       ('MMM', Timestamp('2018-07-13 00:00:00')),\n",
       "       ('MMM', Timestamp('2018-07-16 00:00:00')),\n",
       "       ('MMM', Timestamp('2018-07-17 00:00:00')),\n",
       "       ('MMM', Timestamp('2018-07-18 00:00:00')),\n",
       "       ('MMM', Timestamp('2018-07-19 00:00:00')),\n",
       "       ('MMM', Timestamp('2018-07-20 00:00:00')),\n",
       "       ('MMM', Timestamp('2018-07-23 00:00:00')),\n",
       "       ('MMM', Timestamp('2018-07-24 00:00:00')),\n",
       "       ('MMM', Timestamp('2018-07-25 00:00:00')),\n",
       "       ('MMM', Timestamp('2018-07-26 00:00:00')),\n",
       "       ('MMM', Timestamp('2018-07-27 00:00:00')),\n",
       "       ('MMM', Timestamp('2018-07-30 00:00:00')),\n",
       "       ('MMM', Timestamp('2018-07-31 00:00:00')),\n",
       "       ('MMM', Timestamp('2018-08-01 00:00:00')),\n",
       "       ('MMM', Timestamp('2018-08-02 00:00:00')),\n",
       "       ('MMM', Timestamp('2018-08-03 00:00:00')),\n",
       "       ('MMM', Timestamp('2018-08-06 00:00:00')),\n",
       "       ('MMM', Timestamp('2018-08-07 00:00:00')),\n",
       "       ('MMM', Timestamp('2018-08-08 00:00:00')),\n",
       "       ('MMM', Timestamp('2018-08-09 00:00:00')),\n",
       "       ('MMM', Timestamp('2018-08-10 00:00:00')),\n",
       "       ('MMM', Timestamp('2018-08-13 00:00:00')),\n",
       "       ('MMM', Timestamp('2018-08-14 00:00:00')),\n",
       "       ('MMM', Timestamp('2018-08-15 00:00:00')),\n",
       "       ('MMM', Timestamp('2018-08-16 00:00:00')),\n",
       "       ('MMM', Timestamp('2018-08-17 00:00:00')),\n",
       "       ('MMM', Timestamp('2018-08-20 00:00:00')),\n",
       "       ('MMM', Timestamp('2018-08-21 00:00:00')),\n",
       "       ('MMM', Timestamp('2018-08-22 00:00:00')),\n",
       "       ('MMM', Timestamp('2018-08-23 00:00:00')),\n",
       "       ('MMM', Timestamp('2018-08-24 00:00:00')),\n",
       "       ('MMM', Timestamp('2018-08-27 00:00:00')),\n",
       "       ('MMM', Timestamp('2018-08-28 00:00:00')),\n",
       "       ('MMM', Timestamp('2018-08-29 00:00:00')),\n",
       "       ('MMM', Timestamp('2018-08-30 00:00:00')),\n",
       "       ('MMM', Timestamp('2018-08-31 00:00:00')),\n",
       "       ('MMM', Timestamp('2018-09-04 00:00:00')),\n",
       "       ('MMM', Timestamp('2018-09-05 00:00:00')),\n",
       "       ('MMM', Timestamp('2018-09-06 00:00:00')),\n",
       "       ('MMM', Timestamp('2018-09-07 00:00:00')),\n",
       "       ('MMM', Timestamp('2018-09-10 00:00:00')),\n",
       "       ('MMM', Timestamp('2018-09-11 00:00:00')),\n",
       "       ('MMM', Timestamp('2018-09-12 00:00:00')),\n",
       "       ('MMM', Timestamp('2018-09-13 00:00:00')),\n",
       "       ('MMM', Timestamp('2018-09-14 00:00:00')),\n",
       "       ('MMM', Timestamp('2018-09-17 00:00:00')),\n",
       "       ('MMM', Timestamp('2018-09-18 00:00:00')),\n",
       "       ('MMM', Timestamp('2018-09-19 00:00:00')),\n",
       "       ('MMM', Timestamp('2018-09-20 00:00:00')),\n",
       "       ('MMM', Timestamp('2018-09-21 00:00:00')),\n",
       "       ('MMM', Timestamp('2018-09-24 00:00:00')),\n",
       "       ('MMM', Timestamp('2018-09-25 00:00:00')),\n",
       "       ('MMM', Timestamp('2018-09-26 00:00:00')),\n",
       "       ('MMM', Timestamp('2018-09-27 00:00:00')),\n",
       "       ('MMM', Timestamp('2018-09-28 00:00:00')),\n",
       "       ('MMM', Timestamp('2018-10-01 00:00:00')),\n",
       "       ('MMM', Timestamp('2018-10-02 00:00:00')),\n",
       "       ('MMM', Timestamp('2018-10-03 00:00:00')),\n",
       "       ('MMM', Timestamp('2018-10-04 00:00:00')),\n",
       "       ('MMM', Timestamp('2018-10-05 00:00:00'))], dtype=object)"
      ]
     },
     "execution_count": 9,
     "metadata": {},
     "output_type": "execute_result"
    }
   ],
   "source": [
    "df.index.values # list of indexes"
   ]
  },
  {
   "cell_type": "code",
   "execution_count": 14,
   "metadata": {},
   "outputs": [],
   "source": [
    "import matplotlib.pyplot as plt\n",
    "from matplotlib import style\n",
    "\n",
    "style.use('fivethirtyeight')"
   ]
  },
  {
   "cell_type": "code",
   "execution_count": 26,
   "metadata": {},
   "outputs": [
    {
     "name": "stdout",
     "output_type": "stream",
     "text": [
      "           close_price  high_price  interpolated   low_price  open_price  \\\n",
      "begins_at                                                                  \n",
      "2017-10-12  212.343400    212.3922         False  211.074700  211.377200   \n",
      "2017-10-13  212.470200    214.4611         False  211.572400  213.553500   \n",
      "2017-10-16  213.446100    213.4559         False  211.962800  212.450700   \n",
      "2017-10-17  212.499500    213.4461         False  211.250400  213.221700   \n",
      "2017-10-18  213.007000    213.3681         False  212.128700  212.275100   \n",
      "\n",
      "           session   volume  \n",
      "begins_at                    \n",
      "2017-10-12     reg  1907960  \n",
      "2017-10-13     reg  1461703  \n",
      "2017-10-16     reg  1185228  \n",
      "2017-10-17     reg  2150810  \n",
      "2017-10-18     reg  1413913  \n",
      "float64\n",
      "float64\n"
     ]
    },
    {
     "data": {
      "image/png": "[encoded data removed]",
      "text/plain": [
       "<Figure size 432x288 with 1 Axes>"
      ]
     },
     "metadata": {},
     "output_type": "display_data"
    }
   ],
   "source": [
    "print(df.head())\n",
    "#print(df[['high_price']])\n",
    "print(df.high_price.dtype) # data type?\n",
    "df.high_price = df.high_price.astype(float) # change data type to float\n",
    "print(df.high_price.dtype)\n",
    "df['high_price'].plot()\n",
    "plt.legend()\n",
    "plt.show()"
   ]
  },
  {
   "cell_type": "markdown",
   "metadata": {},
   "source": [
    "# Part2 - dictionaries"
   ]
  },
  {
   "cell_type": "code",
   "execution_count": 2,
   "metadata": {},
   "outputs": [],
   "source": [
    "import pandas as pd\n",
    "import matplotlib.pyplot as plt\n",
    "from matplotlib import style # make graph looking more appealing\n",
    "style.use('ggplot')"
   ]
  },
  {
   "cell_type": "code",
   "execution_count": 5,
   "metadata": {},
   "outputs": [
    {
     "name": "stdout",
     "output_type": "stream",
     "text": [
      "   Bounce Rate  Day  Visitors\n",
      "0           65    1        43\n",
      "1           67    2        34\n",
      "2           78    3        65\n",
      "3           65    4        56\n",
      "4           45    5        29\n",
      "5           52    6        76\n",
      "   Bounce Rate  Day  Visitors\n",
      "0           65    1        43\n",
      "1           67    2        34\n",
      "2           78    3        65\n",
      "3           65    4        56\n",
      "4           45    5        29\n",
      "5           52    6        76\n"
     ]
    }
   ],
   "source": [
    "web_stats = {'Bounce Rate':[65,67,78,65,45,52],\n",
    "             'Day':[1,2,3,4,5,6],\n",
    "             'Visitors':[43,34,65,56,29,76]}\n",
    "df = pd.DataFrame(web_stats)\n",
    "print(df.head())"
   ]
  },
  {
   "cell_type": "markdown",
   "metadata": {},
   "source": [
    "df.set_index('Day') # a new df is returned -- not on the same df!\n",
    "oplossing:\n",
    "\n",
    "a) df = df.set_index('Day')\n",
    "\n",
    "b) df.set_index('Day', inplace=True) -- verandert de dataframe zelf!"
   ]
  },
  {
   "cell_type": "code",
   "execution_count": 9,
   "metadata": {},
   "outputs": [
    {
     "name": "stdout",
     "output_type": "stream",
     "text": [
      "     Bounce Rate  Visitors\n",
      "Day                       \n",
      "1             65        43\n",
      "2             67        34\n",
      "3             78        65\n",
      "4             65        56\n",
      "5             45        29\n",
      "6             52        76\n"
     ]
    }
   ],
   "source": [
    "#df.set_index('Day', inplace=True) \n",
    "print(df)"
   ]
  },
  {
   "cell_type": "code",
   "execution_count": 6,
   "metadata": {},
   "outputs": [
    {
     "name": "stdout",
     "output_type": "stream",
     "text": [
      "0    43\n",
      "1    34\n",
      "2    65\n",
      "3    56\n",
      "4    29\n",
      "5    76\n",
      "Name: Visitors, dtype: int64\n",
      "0    43\n",
      "1    34\n",
      "2    65\n",
      "3    56\n",
      "4    29\n",
      "5    76\n",
      "Name: Visitors, dtype: int64\n",
      "   Visitors  Bounce Rate\n",
      "0        43           65\n",
      "1        34           67\n",
      "2        65           78\n",
      "3        56           65\n",
      "4        29           45\n",
      "5        76           52\n"
     ]
    }
   ],
   "source": [
    "print(df['Visitors']) # 1 kolom printen\n",
    "print(df.Visitors)\n",
    "\n",
    "print(df[['Visitors','Bounce Rate']]) # 2 kolommen printen"
   ]
  },
  {
   "cell_type": "code",
   "execution_count": 39,
   "metadata": {},
   "outputs": [
    {
     "name": "stdout",
     "output_type": "stream",
     "text": [
      "[43, 34, 65, 56, 29, 76]\n",
      "[[43 65]\n",
      " [34 67]\n",
      " [65 78]\n",
      " [56 65]\n",
      " [29 45]\n",
      " [76 52]]\n"
     ]
    }
   ],
   "source": [
    "print(df['Visitors'].tolist()) # 1 kolom als list -- treated as an array\n",
    "\n",
    "import numpy as np\n",
    "print(np.array(df[['Visitors', 'Bounce Rate']])) # 2 kolommen als list"
   ]
  },
  {
   "cell_type": "markdown",
   "metadata": {},
   "source": [
    "Numpy libraries are integral (14:09)  = ??"
   ]
  },
  {
   "cell_type": "markdown",
   "metadata": {},
   "source": [
    "# Part3 - IO Basics (input & output)"
   ]
  },
  {
   "cell_type": "code",
   "execution_count": 2,
   "metadata": {},
   "outputs": [
    {
     "name": "stdout",
     "output_type": "stream",
     "text": [
      "         Date  Value\n",
      "0  2018-09-30  1.392\n",
      "1  2018-08-31  1.392\n",
      "2  2018-07-31  1.394\n",
      "3  2018-06-30  1.396\n",
      "4  2018-05-31  1.396\n"
     ]
    }
   ],
   "source": [
    "import pandas as pd\n",
    "df = pd.read_csv('ZILLOW-Z77006_ZRIFAH.csv')\n",
    "print(df.head())"
   ]
  },
  {
   "cell_type": "code",
   "execution_count": 3,
   "metadata": {},
   "outputs": [],
   "source": [
    "df.set_index('Date', inplace=True)\n",
    "df.to_csv('newcsv2.csv') # creëer een csv bestand"
   ]
  },
  {
   "cell_type": "code",
   "execution_count": 4,
   "metadata": {},
   "outputs": [],
   "source": [
    "df2 = pd.read_csv('newcsv2.csv')"
   ]
  },
  {
   "cell_type": "code",
   "execution_count": 5,
   "metadata": {},
   "outputs": [
    {
     "name": "stdout",
     "output_type": "stream",
     "text": [
      "False\n"
     ]
    }
   ],
   "source": [
    "print(pd.DataFrame.equals(df, df2))"
   ]
  },
  {
   "cell_type": "code",
   "execution_count": 20,
   "metadata": {},
   "outputs": [
    {
     "data": {
      "text/html": [
       "<div>\n",
       "<style scoped>\n",
       "    .dataframe tbody tr th:only-of-type {\n",
       "        vertical-align: middle;\n",
       "    }\n",
       "\n",
       "    .dataframe tbody tr th {\n",
       "        vertical-align: top;\n",
       "    }\n",
       "\n",
       "    .dataframe thead th {\n",
       "        text-align: right;\n",
       "    }\n",
       "</style>\n",
       "<table border=\"1\" class=\"dataframe\">\n",
       "  <thead>\n",
       "    <tr style=\"text-align: right;\">\n",
       "      <th></th>\n",
       "      <th>Value</th>\n",
       "    </tr>\n",
       "    <tr>\n",
       "      <th>Date</th>\n",
       "      <th></th>\n",
       "    </tr>\n",
       "  </thead>\n",
       "  <tbody>\n",
       "    <tr>\n",
       "      <th>2018-09-30</th>\n",
       "      <td>1.392</td>\n",
       "    </tr>\n",
       "    <tr>\n",
       "      <th>2018-08-31</th>\n",
       "      <td>1.392</td>\n",
       "    </tr>\n",
       "    <tr>\n",
       "      <th>2018-07-31</th>\n",
       "      <td>1.394</td>\n",
       "    </tr>\n",
       "    <tr>\n",
       "      <th>2018-06-30</th>\n",
       "      <td>1.396</td>\n",
       "    </tr>\n",
       "    <tr>\n",
       "      <th>2018-05-31</th>\n",
       "      <td>1.396</td>\n",
       "    </tr>\n",
       "  </tbody>\n",
       "</table>\n",
       "</div>"
      ],
      "text/plain": [
       "            Value\n",
       "Date             \n",
       "2018-09-30  1.392\n",
       "2018-08-31  1.392\n",
       "2018-07-31  1.394\n",
       "2018-06-30  1.396\n",
       "2018-05-31  1.396"
      ]
     },
     "execution_count": 20,
     "metadata": {},
     "output_type": "execute_result"
    }
   ],
   "source": [
    "df.head()"
   ]
  },
  {
   "cell_type": "code",
   "execution_count": 21,
   "metadata": {},
   "outputs": [
    {
     "data": {
      "text/html": [
       "<div>\n",
       "<style scoped>\n",
       "    .dataframe tbody tr th:only-of-type {\n",
       "        vertical-align: middle;\n",
       "    }\n",
       "\n",
       "    .dataframe tbody tr th {\n",
       "        vertical-align: top;\n",
       "    }\n",
       "\n",
       "    .dataframe thead th {\n",
       "        text-align: right;\n",
       "    }\n",
       "</style>\n",
       "<table border=\"1\" class=\"dataframe\">\n",
       "  <thead>\n",
       "    <tr style=\"text-align: right;\">\n",
       "      <th></th>\n",
       "      <th>Date</th>\n",
       "      <th>Value</th>\n",
       "    </tr>\n",
       "  </thead>\n",
       "  <tbody>\n",
       "    <tr>\n",
       "      <th>0</th>\n",
       "      <td>2018-09-30</td>\n",
       "      <td>1.392</td>\n",
       "    </tr>\n",
       "    <tr>\n",
       "      <th>1</th>\n",
       "      <td>2018-08-31</td>\n",
       "      <td>1.392</td>\n",
       "    </tr>\n",
       "    <tr>\n",
       "      <th>2</th>\n",
       "      <td>2018-07-31</td>\n",
       "      <td>1.394</td>\n",
       "    </tr>\n",
       "    <tr>\n",
       "      <th>3</th>\n",
       "      <td>2018-06-30</td>\n",
       "      <td>1.396</td>\n",
       "    </tr>\n",
       "    <tr>\n",
       "      <th>4</th>\n",
       "      <td>2018-05-31</td>\n",
       "      <td>1.396</td>\n",
       "    </tr>\n",
       "  </tbody>\n",
       "</table>\n",
       "</div>"
      ],
      "text/plain": [
       "         Date  Value\n",
       "0  2018-09-30  1.392\n",
       "1  2018-08-31  1.392\n",
       "2  2018-07-31  1.394\n",
       "3  2018-06-30  1.396\n",
       "4  2018-05-31  1.396"
      ]
     },
     "execution_count": 21,
     "metadata": {},
     "output_type": "execute_result"
    }
   ],
   "source": [
    "df2.head()"
   ]
  },
  {
   "cell_type": "code",
   "execution_count": 22,
   "metadata": {},
   "outputs": [
    {
     "data": {
      "text/html": [
       "<div>\n",
       "<style scoped>\n",
       "    .dataframe tbody tr th:only-of-type {\n",
       "        vertical-align: middle;\n",
       "    }\n",
       "\n",
       "    .dataframe tbody tr th {\n",
       "        vertical-align: top;\n",
       "    }\n",
       "\n",
       "    .dataframe thead th {\n",
       "        text-align: right;\n",
       "    }\n",
       "</style>\n",
       "<table border=\"1\" class=\"dataframe\">\n",
       "  <thead>\n",
       "    <tr style=\"text-align: right;\">\n",
       "      <th></th>\n",
       "      <th>Value</th>\n",
       "    </tr>\n",
       "    <tr>\n",
       "      <th>Date</th>\n",
       "      <th></th>\n",
       "    </tr>\n",
       "  </thead>\n",
       "  <tbody>\n",
       "    <tr>\n",
       "      <th>2018-09-30</th>\n",
       "      <td>1.392</td>\n",
       "    </tr>\n",
       "    <tr>\n",
       "      <th>2018-08-31</th>\n",
       "      <td>1.392</td>\n",
       "    </tr>\n",
       "    <tr>\n",
       "      <th>2018-07-31</th>\n",
       "      <td>1.394</td>\n",
       "    </tr>\n",
       "    <tr>\n",
       "      <th>2018-06-30</th>\n",
       "      <td>1.396</td>\n",
       "    </tr>\n",
       "    <tr>\n",
       "      <th>2018-05-31</th>\n",
       "      <td>1.396</td>\n",
       "    </tr>\n",
       "  </tbody>\n",
       "</table>\n",
       "</div>"
      ],
      "text/plain": [
       "            Value\n",
       "Date             \n",
       "2018-09-30  1.392\n",
       "2018-08-31  1.392\n",
       "2018-07-31  1.394\n",
       "2018-06-30  1.396\n",
       "2018-05-31  1.396"
      ]
     },
     "execution_count": 22,
     "metadata": {},
     "output_type": "execute_result"
    }
   ],
   "source": [
    "df.reset_index()\n",
    "df.head()"
   ]
  },
  {
   "cell_type": "code",
   "execution_count": 23,
   "metadata": {},
   "outputs": [
    {
     "data": {
      "text/plain": [
       "Date      object\n",
       "Value    float64\n",
       "dtype: object"
      ]
     },
     "execution_count": 23,
     "metadata": {},
     "output_type": "execute_result"
    }
   ],
   "source": [
    "df2.dtypes"
   ]
  },
  {
   "cell_type": "code",
   "execution_count": 24,
   "metadata": {},
   "outputs": [
    {
     "ename": "SyntaxError",
     "evalue": "invalid syntax (<ipython-input-24-915637deb483>, line 1)",
     "output_type": "error",
     "traceback": [
      "\u001b[1;36m  File \u001b[1;32m\"<ipython-input-24-915637deb483>\"\u001b[1;36m, line \u001b[1;32m1\u001b[0m\n\u001b[1;33m    df2.<TAB>\u001b[0m\n\u001b[1;37m        ^\u001b[0m\n\u001b[1;31mSyntaxError\u001b[0m\u001b[1;31m:\u001b[0m invalid syntax\n"
     ]
    }
   ],
   "source": [
    "df2.<TAB>"
   ]
  },
  {
   "cell_type": "code",
   "execution_count": 26,
   "metadata": {},
   "outputs": [
    {
     "data": {
      "text/plain": [
       "Index(['Date', 'Value'], dtype='object')"
      ]
     },
     "execution_count": 26,
     "metadata": {},
     "output_type": "execute_result"
    }
   ],
   "source": [
    "df.columns\n",
    "df2.columns"
   ]
  },
  {
   "cell_type": "code",
   "execution_count": 6,
   "metadata": {},
   "outputs": [
    {
     "data": {
      "text/html": [
       "<div>\n",
       "<style scoped>\n",
       "    .dataframe tbody tr th:only-of-type {\n",
       "        vertical-align: middle;\n",
       "    }\n",
       "\n",
       "    .dataframe tbody tr th {\n",
       "        vertical-align: top;\n",
       "    }\n",
       "\n",
       "    .dataframe thead th {\n",
       "        text-align: right;\n",
       "    }\n",
       "</style>\n",
       "<table border=\"1\" class=\"dataframe\">\n",
       "  <thead>\n",
       "    <tr style=\"text-align: right;\">\n",
       "      <th></th>\n",
       "      <th>Value</th>\n",
       "    </tr>\n",
       "    <tr>\n",
       "      <th>Date</th>\n",
       "      <th></th>\n",
       "    </tr>\n",
       "  </thead>\n",
       "  <tbody>\n",
       "    <tr>\n",
       "      <th>2018-09-30</th>\n",
       "      <td>1.392</td>\n",
       "    </tr>\n",
       "    <tr>\n",
       "      <th>2018-08-31</th>\n",
       "      <td>1.392</td>\n",
       "    </tr>\n",
       "  </tbody>\n",
       "</table>\n",
       "</div>"
      ],
      "text/plain": [
       "            Value\n",
       "Date             \n",
       "2018-09-30  1.392\n",
       "2018-08-31  1.392"
      ]
     },
     "execution_count": 6,
     "metadata": {},
     "output_type": "execute_result"
    }
   ],
   "source": [
    "df[:2]"
   ]
  },
  {
   "cell_type": "markdown",
   "metadata": {},
   "source": [
    "# Part 4 - Building dataset (reading from html)"
   ]
  },
  {
   "cell_type": "code",
   "execution_count": 2,
   "metadata": {},
   "outputs": [],
   "source": [
    "import quandl"
   ]
  },
  {
   "cell_type": "code",
   "execution_count": 10,
   "metadata": {},
   "outputs": [
    {
     "data": {
      "text/plain": [
       "'0.23.0'"
      ]
     },
     "execution_count": 10,
     "metadata": {},
     "output_type": "execute_result"
    }
   ],
   "source": [
    "pd.__version__"
   ]
  },
  {
   "cell_type": "code",
   "execution_count": 11,
   "metadata": {
    "collapsed": true
   },
   "outputs": [
    {
     "name": "stdout",
     "output_type": "stream",
     "text": [
      "\n",
      "INSTALLED VERSIONS\n",
      "------------------\n",
      "commit: None\n",
      "python: 3.6.5.final.0\n",
      "python-bits: 64\n",
      "OS: Windows\n",
      "OS-release: 10\n",
      "machine: AMD64\n",
      "processor: Intel64 Family 6 Model 58 Stepping 9, GenuineIntel\n",
      "byteorder: little\n",
      "LC_ALL: None\n",
      "LANG: None\n",
      "LOCALE: None.None\n",
      "\n",
      "pandas: 0.23.0\n",
      "pytest: 3.5.1\n",
      "pip: 10.0.1\n",
      "setuptools: 39.1.0\n",
      "Cython: 0.28.2\n",
      "numpy: 1.14.3\n",
      "scipy: 1.1.0\n",
      "pyarrow: None\n",
      "xarray: None\n",
      "IPython: 6.4.0\n",
      "sphinx: 1.7.4\n",
      "patsy: 0.5.0\n",
      "dateutil: 2.7.3\n",
      "pytz: 2018.4\n",
      "blosc: None\n",
      "bottleneck: 1.2.1\n",
      "tables: 3.4.3\n",
      "numexpr: 2.6.5\n",
      "feather: None\n",
      "matplotlib: 2.2.2\n",
      "openpyxl: 2.5.3\n",
      "xlrd: 1.1.0\n",
      "xlwt: 1.3.0\n",
      "xlsxwriter: 1.0.4\n",
      "lxml: 4.2.1\n",
      "bs4: 4.6.0\n",
      "html5lib: 1.0.1\n",
      "sqlalchemy: 1.2.7\n",
      "pymysql: None\n",
      "psycopg2: None\n",
      "jinja2: 2.10\n",
      "s3fs: None\n",
      "fastparquet: None\n",
      "pandas_gbq: None\n",
      "pandas_datareader: None\n"
     ]
    }
   ],
   "source": [
    "pd.show_versions()"
   ]
  },
  {
   "cell_type": "code",
   "execution_count": 13,
   "metadata": {},
   "outputs": [],
   "source": [
    "api_key='6y8S4s3s3xr9L-1_mUt2' # See account settings on Quandl"
   ]
  },
  {
   "cell_type": "code",
   "execution_count": 3,
   "metadata": {},
   "outputs": [],
   "source": [
    "df = quandl.get('FMAC/HPI_AK')"
   ]
  },
  {
   "cell_type": "code",
   "execution_count": 4,
   "metadata": {
    "scrolled": true
   },
   "outputs": [
    {
     "data": {
      "text/html": [
       "<div>\n",
       "<style scoped>\n",
       "    .dataframe tbody tr th:only-of-type {\n",
       "        vertical-align: middle;\n",
       "    }\n",
       "\n",
       "    .dataframe tbody tr th {\n",
       "        vertical-align: top;\n",
       "    }\n",
       "\n",
       "    .dataframe thead th {\n",
       "        text-align: right;\n",
       "    }\n",
       "</style>\n",
       "<table border=\"1\" class=\"dataframe\">\n",
       "  <thead>\n",
       "    <tr style=\"text-align: right;\">\n",
       "      <th></th>\n",
       "      <th>Value</th>\n",
       "    </tr>\n",
       "    <tr>\n",
       "      <th>Date</th>\n",
       "      <th></th>\n",
       "    </tr>\n",
       "  </thead>\n",
       "  <tbody>\n",
       "    <tr>\n",
       "      <th>1975-01-31</th>\n",
       "      <td>34.371830</td>\n",
       "    </tr>\n",
       "    <tr>\n",
       "      <th>1975-02-28</th>\n",
       "      <td>34.880945</td>\n",
       "    </tr>\n",
       "    <tr>\n",
       "      <th>1975-03-31</th>\n",
       "      <td>35.402217</td>\n",
       "    </tr>\n",
       "    <tr>\n",
       "      <th>1975-04-30</th>\n",
       "      <td>35.944703</td>\n",
       "    </tr>\n",
       "    <tr>\n",
       "      <th>1975-05-31</th>\n",
       "      <td>36.535272</td>\n",
       "    </tr>\n",
       "  </tbody>\n",
       "</table>\n",
       "</div>"
      ],
      "text/plain": [
       "                Value\n",
       "Date                 \n",
       "1975-01-31  34.371830\n",
       "1975-02-28  34.880945\n",
       "1975-03-31  35.402217\n",
       "1975-04-30  35.944703\n",
       "1975-05-31  36.535272"
      ]
     },
     "execution_count": 4,
     "metadata": {},
     "output_type": "execute_result"
    }
   ],
   "source": [
    "df.head()"
   ]
  },
  {
   "cell_type": "code",
   "execution_count": 18,
   "metadata": {},
   "outputs": [
    {
     "data": {
      "text/html": [
       "<div>\n",
       "<style scoped>\n",
       "    .dataframe tbody tr th:only-of-type {\n",
       "        vertical-align: middle;\n",
       "    }\n",
       "\n",
       "    .dataframe tbody tr th {\n",
       "        vertical-align: top;\n",
       "    }\n",
       "\n",
       "    .dataframe thead th {\n",
       "        text-align: right;\n",
       "    }\n",
       "</style>\n",
       "<table border=\"1\" class=\"dataframe\">\n",
       "  <thead>\n",
       "    <tr style=\"text-align: right;\">\n",
       "      <th></th>\n",
       "      <th>Value</th>\n",
       "    </tr>\n",
       "    <tr>\n",
       "      <th>Date</th>\n",
       "      <th></th>\n",
       "    </tr>\n",
       "  </thead>\n",
       "  <tbody>\n",
       "    <tr>\n",
       "      <th>1975-01-31</th>\n",
       "      <td>34.371830</td>\n",
       "    </tr>\n",
       "    <tr>\n",
       "      <th>1975-02-28</th>\n",
       "      <td>34.880945</td>\n",
       "    </tr>\n",
       "    <tr>\n",
       "      <th>1975-03-31</th>\n",
       "      <td>35.402217</td>\n",
       "    </tr>\n",
       "    <tr>\n",
       "      <th>1975-04-30</th>\n",
       "      <td>35.944703</td>\n",
       "    </tr>\n",
       "    <tr>\n",
       "      <th>1975-05-31</th>\n",
       "      <td>36.535272</td>\n",
       "    </tr>\n",
       "  </tbody>\n",
       "</table>\n",
       "</div>"
      ],
      "text/plain": [
       "                Value\n",
       "Date                 \n",
       "1975-01-31  34.371830\n",
       "1975-02-28  34.880945\n",
       "1975-03-31  35.402217\n",
       "1975-04-30  35.944703\n",
       "1975-05-31  36.535272"
      ]
     },
     "execution_count": 18,
     "metadata": {},
     "output_type": "execute_result"
    }
   ],
   "source": [
    "df2 = quandl.get('FMAC/HPI_AK', authtoken=api_key)\n",
    "df2.head()"
   ]
  },
  {
   "cell_type": "code",
   "execution_count": 19,
   "metadata": {
    "collapsed": true
   },
   "outputs": [
    {
     "name": "stdout",
     "output_type": "stream",
     "text": [
      "[         0              1               2               3                  4\n",
      "0   Sl no.  Abbreviations      State Name         Capital     Became a State\n",
      "1        1             AL         Alabama      Montgomery  December 14, 1819\n",
      "2        2             AK          Alaska          Juneau    January 3, 1959\n",
      "3        3             AZ         Arizona         Phoenix  February 14, 1912\n",
      "4        4             AR        Arkansas     Little Rock      June 15, 1836\n",
      "5        5             CA      California      Sacramento  September 9, 1850\n",
      "6        6             CO        Colorado          Denver     August 1, 1876\n",
      "7        7             CT     Connecticut        Hartford    January 9, 1788\n",
      "8        8             DE        Delaware           Dover   December 7, 1787\n",
      "9        9             FL         Florida     Tallahassee      March 3, 1845\n",
      "10      10             GA         Georgia         Atlanta    January 2, 1788\n",
      "11      11             HI          Hawaii        Honolulu    August 21, 1959\n",
      "12      12             ID           Idaho           Boise       July 3, 1890\n",
      "13      13             IL        Illinois     Springfield   December 3, 1818\n",
      "14      14             IN         Indiana    Indianapolis  December 11, 1816\n",
      "15      15             IA            Iowa      Des Moines  December 28, 1846\n",
      "16      16             KS          Kansas          Topeka   January 29, 1861\n",
      "17      17             KY        Kentucky       Frankfort       June 1, 1792\n",
      "18      18             LA       Louisiana     Baton Rouge     April 30, 1812\n",
      "19      19             ME           Maine         Augusta     March 15, 1820\n",
      "20      20             MD        Maryland       Annapolis     April 28, 1788\n",
      "21      21             MA   Massachusetts          Boston   February 6, 1788\n",
      "22      22             MI        Michigan         Lansing   January 26, 1837\n",
      "23      23             MN       Minnesota      Saint Paul       May 11, 1858\n",
      "24      24             MS     Mississippi         Jackson  December 10, 1817\n",
      "25      25             MO        Missouri  Jefferson City    August 10, 1821\n",
      "26      26             MT         Montana          Helena   November 8, 1889\n",
      "27      27             NE        Nebraska         Lincoln      March 1, 1867\n",
      "28      28             NV          Nevada     Carson City   October 31, 1864\n",
      "29      29             NH   New Hampshire         Concord      June 21, 1788\n",
      "30      30             NJ      New Jersey         Trenton  December 18, 1787\n",
      "31      31             NM      New Mexico        Santa Fe    January 6, 1912\n",
      "32      32             NY        New York          Albany      July 26, 1788\n",
      "33      33             NC  North Carolina         Raleigh  November 21, 1789\n",
      "34      34             ND    North Dakota        Bismarck   November 2, 1889\n",
      "35      35             OH            Ohio        Columbus      March 1, 1803\n",
      "36      36             OK        Oklahoma   Oklahoma City  November 16, 1907\n",
      "37      37             OR          Oregon           Salem  February 14, 1859\n",
      "38      38             PA    Pennsylvania      Harrisburg  December 12, 1787\n",
      "39      39             RI    Rhode Island      Providence       May 19, 1790\n",
      "40      40             SC  South Carolina        Columbia       May 23, 1788\n",
      "41      41             SD    South Dakota          Pierre   November 2, 1889\n",
      "42      42             TN       Tennessee       Nashville       June 1, 1796\n",
      "43      43             TX           Texas          Austin  December 29, 1845\n",
      "44      44             UT            Utah  Salt Lake City    January 4, 1896\n",
      "45      45             VT         Vermont      Montpelier      March 4, 1791\n",
      "46      46             VA        Virginia        Richmond      June 25, 1788\n",
      "47      47             WA      Washington         Olympia  November 11, 1889\n",
      "48      48             WV   West Virginia      Charleston      June 20, 1863\n",
      "49      49             WI       Wisconsin         Madison       May 29, 1848\n",
      "50      50             WY         Wyoming        Cheyenne      July 10, 1890,                                              0  \\\n",
      "0  vtePolitical divisions of the United States   \n",
      "1                                       States   \n",
      "2                             Federal district   \n",
      "3                                Insular areas   \n",
      "4                             Outlying islands   \n",
      "\n",
      "                                                   1  \n",
      "0                                                NaN  \n",
      "1  Alabama Alaska Arizona Arkansas California Col...  \n",
      "2                                   Washington, D.C.  \n",
      "3  American Samoa Guam Northern Mariana Islands P...  \n",
      "4  Baker Island Howland Island Jarvis Island John...  ]\n"
     ]
    }
   ],
   "source": [
    "fiddy_states = pd.read_html('https://simple.wikipedia.org/wiki/List_of_U.S._states')\n",
    "print(fiddy_states) #list"
   ]
  },
  {
   "cell_type": "code",
   "execution_count": 21,
   "metadata": {
    "collapsed": true
   },
   "outputs": [
    {
     "name": "stdout",
     "output_type": "stream",
     "text": [
      "                                             0  \\\n",
      "0  vtePolitical divisions of the United States   \n",
      "1                                       States   \n",
      "2                             Federal district   \n",
      "3                                Insular areas   \n",
      "4                             Outlying islands   \n",
      "\n",
      "                                                   1  \n",
      "0                                                NaN  \n",
      "1  Alabama Alaska Arizona Arkansas California Col...  \n",
      "2                                   Washington, D.C.  \n",
      "3  American Samoa Guam Northern Mariana Islands P...  \n",
      "4  Baker Island Howland Island Jarvis Island John...  \n"
     ]
    }
   ],
   "source": [
    "print(fiddy_states[0]) # dataframe"
   ]
  },
  {
   "cell_type": "code",
   "execution_count": 32,
   "metadata": {
    "collapsed": true
   },
   "outputs": [
    {
     "name": "stdout",
     "output_type": "stream",
     "text": [
      "0     Abbreviations\n",
      "1                AL\n",
      "2                AK\n",
      "3                AZ\n",
      "4                AR\n",
      "5                CA\n",
      "6                CO\n",
      "7                CT\n",
      "8                DE\n",
      "9                FL\n",
      "10               GA\n",
      "11               HI\n",
      "12               ID\n",
      "13               IL\n",
      "14               IN\n",
      "15               IA\n",
      "16               KS\n",
      "17               KY\n",
      "18               LA\n",
      "19               ME\n",
      "20               MD\n",
      "21               MA\n",
      "22               MI\n",
      "23               MN\n",
      "24               MS\n",
      "25               MO\n",
      "26               MT\n",
      "27               NE\n",
      "28               NV\n",
      "29               NH\n",
      "30               NJ\n",
      "31               NM\n",
      "32               NY\n",
      "33               NC\n",
      "34               ND\n",
      "35               OH\n",
      "36               OK\n",
      "37               OR\n",
      "38               PA\n",
      "39               RI\n",
      "40               SC\n",
      "41               SD\n",
      "42               TN\n",
      "43               TX\n",
      "44               UT\n",
      "45               VT\n",
      "46               VA\n",
      "47               WA\n",
      "48               WV\n",
      "49               WI\n",
      "50               WY\n",
      "Name: 1, dtype: object\n"
     ]
    }
   ],
   "source": [
    "print(fiddy_states[0][1]) # column\n",
    "\n",
    "# ??? Hoe twee kolommen tonen??"
   ]
  },
  {
   "cell_type": "code",
   "execution_count": 33,
   "metadata": {},
   "outputs": [
    {
     "name": "stdout",
     "output_type": "stream",
     "text": [
      "FMAC/HPI_AL\n",
      "FMAC/HPI_AK\n",
      "FMAC/HPI_AZ\n",
      "FMAC/HPI_AR\n",
      "FMAC/HPI_CA\n",
      "FMAC/HPI_CO\n",
      "FMAC/HPI_CT\n",
      "FMAC/HPI_DE\n",
      "FMAC/HPI_FL\n",
      "FMAC/HPI_GA\n",
      "FMAC/HPI_HI\n",
      "FMAC/HPI_ID\n",
      "FMAC/HPI_IL\n",
      "FMAC/HPI_IN\n",
      "FMAC/HPI_IA\n",
      "FMAC/HPI_KS\n",
      "FMAC/HPI_KY\n",
      "FMAC/HPI_LA\n",
      "FMAC/HPI_ME\n",
      "FMAC/HPI_MD\n",
      "FMAC/HPI_MA\n",
      "FMAC/HPI_MI\n",
      "FMAC/HPI_MN\n",
      "FMAC/HPI_MS\n",
      "FMAC/HPI_MO\n",
      "FMAC/HPI_MT\n",
      "FMAC/HPI_NE\n",
      "FMAC/HPI_NV\n",
      "FMAC/HPI_NH\n",
      "FMAC/HPI_NJ\n",
      "FMAC/HPI_NM\n",
      "FMAC/HPI_NY\n",
      "FMAC/HPI_NC\n",
      "FMAC/HPI_ND\n",
      "FMAC/HPI_OH\n",
      "FMAC/HPI_OK\n",
      "FMAC/HPI_OR\n",
      "FMAC/HPI_PA\n",
      "FMAC/HPI_RI\n",
      "FMAC/HPI_SC\n",
      "FMAC/HPI_SD\n",
      "FMAC/HPI_TN\n",
      "FMAC/HPI_TX\n",
      "FMAC/HPI_UT\n",
      "FMAC/HPI_VT\n",
      "FMAC/HPI_VA\n",
      "FMAC/HPI_WA\n",
      "FMAC/HPI_WV\n",
      "FMAC/HPI_WI\n",
      "FMAC/HPI_WY\n"
     ]
    }
   ],
   "source": [
    "# print(fiddy_states[0][1][1:]) # column vanaf 2e rij!\n",
    "\n",
    "for abbv in fiddy_states[0][1][1:]:\n",
    "    print(\"FMAC/HPI_\"+str(abbv)) # ?? geen teller aan toevoegen zodat hij naar de volgende rij gaat?!!"
   ]
  },
  {
   "cell_type": "markdown",
   "metadata": {},
   "source": [
    "# Part 5 - Concatenating & appending dataframes\n",
    "Four major ways of combining dataframes: concatenation, joining, merging, and appending"
   ]
  },
  {
   "cell_type": "code",
   "execution_count": 2,
   "metadata": {},
   "outputs": [
    {
     "name": "stdout",
     "output_type": "stream",
     "text": [
      "      HPI  Int_rate  US_GDP_Thousands\n",
      "2001   80         2                50\n",
      "2002   85         3                55\n",
      "2003   88         2                65\n",
      "2004   85         2                55\n",
      "2005   80         2                50\n",
      "2006   85         3                55\n",
      "2007   88         2                65\n",
      "2008   85         2                55\n"
     ]
    }
   ],
   "source": [
    "import pandas as pd\n",
    "\n",
    "df1 = pd.DataFrame({'HPI':[80,85,88,85],\n",
    "                    'Int_rate':[2, 3, 2, 2],\n",
    "                    'US_GDP_Thousands':[50, 55, 65, 55]},\n",
    "                   index = [2001, 2002, 2003, 2004])\n",
    "\n",
    "df2 = pd.DataFrame({'HPI':[80,85,88,85],\n",
    "                    'Int_rate':[2, 3, 2, 2],\n",
    "                    'US_GDP_Thousands':[50, 55, 65, 55]},\n",
    "                   index = [2005, 2006, 2007, 2008])\n",
    "\n",
    "df3 = pd.DataFrame({'HPI':[80,85,88,85],\n",
    "                    'Int_rate':[2, 3, 2, 2],\n",
    "                    'Low_tier_HPI':[50, 52, 50, 53]},\n",
    "                   index = [2001, 2002, 2003, 2004])\n",
    "\n",
    "concat = pd.concat([df1, df2])\n",
    "print(concat)"
   ]
  },
  {
   "cell_type": "code",
   "execution_count": 43,
   "metadata": {
    "scrolled": true
   },
   "outputs": [
    {
     "name": "stdout",
     "output_type": "stream",
     "text": [
      "      HPI  Int_rate  Low_tier_HPI  US_GDP_Thousands\n",
      "2001   80         2           NaN              50.0\n",
      "2002   85         3           NaN              55.0\n",
      "2003   88         2           NaN              65.0\n",
      "2004   85         2           NaN              55.0\n",
      "2005   80         2           NaN              50.0\n",
      "2006   85         3           NaN              55.0\n",
      "2007   88         2           NaN              65.0\n",
      "2008   85         2           NaN              55.0\n",
      "2001   80         2          50.0               NaN\n",
      "2002   85         3          52.0               NaN\n",
      "2003   88         2          50.0               NaN\n",
      "2004   85         2          53.0               NaN\n"
     ]
    },
    {
     "name": "stderr",
     "output_type": "stream",
     "text": [
      "C:\\Users\\tinep\\Anaconda3\\lib\\site-packages\\ipykernel_launcher.py:1: FutureWarning: Sorting because non-concatenation axis is not aligned. A future version\n",
      "of pandas will change to not sort by default.\n",
      "\n",
      "To accept the future behavior, pass 'sort=True'.\n",
      "\n",
      "To retain the current behavior and silence the warning, pass sort=False\n",
      "\n",
      "  \"\"\"Entry point for launching an IPython kernel.\n"
     ]
    }
   ],
   "source": [
    "concat = pd.concat([df1, df2, df3]) #, sort = True)\n",
    "# FutureWarning: Sorting because non-concatenation axis is not aligned. A future version\n",
    "# of pandas will change to not sort by default.\n",
    "# ??? Non-concatenation axis?\n",
    "print(concat)"
   ]
  },
  {
   "cell_type": "code",
   "execution_count": 7,
   "metadata": {},
   "outputs": [
    {
     "name": "stdout",
     "output_type": "stream",
     "text": [
      "      HPI  Int_rate  US_GDP_Thousands  Low_tier_HPI\n",
      "2001   80         2              50.0           NaN\n",
      "2002   85         3              55.0           NaN\n",
      "2003   88         2              65.0           NaN\n",
      "2004   85         2              55.0           NaN\n",
      "2005   80         2              50.0           NaN\n",
      "2006   85         3              55.0           NaN\n",
      "2007   88         2              65.0           NaN\n",
      "2008   85         2              55.0           NaN\n",
      "2001   80         2               NaN          50.0\n",
      "2002   85         3               NaN          52.0\n",
      "2003   88         2               NaN          50.0\n",
      "2004   85         2               NaN          53.0\n",
      "<class 'pandas.core.frame.DataFrame'>\n"
     ]
    }
   ],
   "source": [
    "concat = pd.concat([df1, df2, df3], sort = False)\n",
    "print(concat) \n",
    "# kolommen in volgorde van concatenatie -- Low_tier_HPI van df3 als laatste kolom dus!\n",
    "\n",
    "print(type(concat))"
   ]
  },
  {
   "cell_type": "code",
   "execution_count": 45,
   "metadata": {},
   "outputs": [
    {
     "name": "stdout",
     "output_type": "stream",
     "text": [
      "      HPI  Int_rate  Low_tier_HPI  US_GDP_Thousands\n",
      "2001   80         2           NaN              50.0\n",
      "2002   85         3           NaN              55.0\n",
      "2003   88         2           NaN              65.0\n",
      "2004   85         2           NaN              55.0\n",
      "2005   80         2           NaN              50.0\n",
      "2006   85         3           NaN              55.0\n",
      "2007   88         2           NaN              65.0\n",
      "2008   85         2           NaN              55.0\n",
      "2001   80         2          50.0               NaN\n",
      "2002   85         3          52.0               NaN\n",
      "2003   88         2          50.0               NaN\n",
      "2004   85         2          53.0               NaN\n"
     ]
    }
   ],
   "source": [
    "concat = pd.concat([df1, df2, df3], sort = True)\n",
    "print(concat)"
   ]
  },
  {
   "cell_type": "code",
   "execution_count": 8,
   "metadata": {},
   "outputs": [
    {
     "name": "stdout",
     "output_type": "stream",
     "text": [
      "      HPI  Int_rate  US_GDP_Thousands\n",
      "2001   80         2                50\n",
      "2002   85         3                55\n",
      "2003   88         2                65\n",
      "2004   85         2                55\n",
      "2005   80         2                50\n",
      "2006   85         3                55\n",
      "2007   88         2                65\n",
      "2008   85         2                55\n",
      "<class 'pandas.core.frame.DataFrame'>\n"
     ]
    }
   ],
   "source": [
    "df4 = df1.append(df2)\n",
    "print(df4)\n",
    "print(type(df4))"
   ]
  },
  {
   "cell_type": "code",
   "execution_count": 48,
   "metadata": {},
   "outputs": [
    {
     "name": "stdout",
     "output_type": "stream",
     "text": [
      "      HPI  Int_rate  US_GDP_Thousands  Low_tier_HPI\n",
      "2001   80         2              50.0           NaN\n",
      "2002   85         3              55.0           NaN\n",
      "2003   88         2              65.0           NaN\n",
      "2004   85         2              55.0           NaN\n",
      "2001   80         2               NaN          50.0\n",
      "2002   85         3               NaN          52.0\n",
      "2003   88         2               NaN          50.0\n",
      "2004   85         2               NaN          53.0\n"
     ]
    }
   ],
   "source": [
    "df4 = df1.append(df3, sort=False)\n",
    "print(df4)\n",
    "# twee dataframes met zelfde indexen, maar verschillende kolommen -- result niet ok"
   ]
  },
  {
   "cell_type": "code",
   "execution_count": 6,
   "metadata": {},
   "outputs": [
    {
     "name": "stdout",
     "output_type": "stream",
     "text": [
      "<class 'pandas.core.series.Series'>\n",
      "<class 'pandas.core.frame.DataFrame'>\n",
      "   HPI  Int_rate  US_GDP_Thousands\n",
      "0   80         2                50\n",
      "1   85         3                55\n",
      "2   88         2                65\n",
      "3   85         2                55\n",
      "4   80         2                50\n"
     ]
    }
   ],
   "source": [
    "s = pd.Series([80,2,50], index=['HPI','Int_rate','US_GDP_Thousands']) # waarom zijn de kolommen hier indexen???\n",
    "print(type(s))\n",
    "print(type(df1))\n",
    "\n",
    "df4 = df1.append(s, ignore_index=True)\n",
    "print(df4)"
   ]
  },
  {
   "cell_type": "markdown",
   "metadata": {},
   "source": [
    "# Part 6 - Merging & joining dataframes"
   ]
  },
  {
   "cell_type": "code",
   "execution_count": 3,
   "metadata": {},
   "outputs": [],
   "source": [
    "import pandas as pd\n",
    "\n",
    "df1 = pd.DataFrame({'HPI':[80,85,88,85],\n",
    "                    'Int_rate':[2, 3, 2, 2],\n",
    "                    'US_GDP_Thousands':[50, 55, 65, 55]},\n",
    "                   index = [2001, 2002, 2003, 2004])\n",
    "\n",
    "df2 = pd.DataFrame({'HPI':[80,85,88,85],\n",
    "                    'Int_rate':[2, 3, 2, 2],\n",
    "                    'US_GDP_Thousands':[50, 55, 65, 55]},\n",
    "                   index = [2005, 2006, 2007, 2008])\n",
    "\n",
    "df3 = pd.DataFrame({'HPI':[80,85,88,85],\n",
    "                    'Unemployment':[7, 8, 9, 6],\n",
    "                    'Low_tier_HPI':[50, 52, 50, 53]},\n",
    "                   index = [2001, 2002, 2003, 2004])"
   ]
  },
  {
   "cell_type": "code",
   "execution_count": 62,
   "metadata": {},
   "outputs": [
    {
     "name": "stdout",
     "output_type": "stream",
     "text": [
      "      HPI  Int_rate  US_GDP_Thousands  Unemployment  Low_tier_HPI\n",
      "2001   80       2.0              50.0           NaN           NaN\n",
      "2002   85       3.0              55.0           NaN           NaN\n",
      "2003   88       2.0              65.0           NaN           NaN\n",
      "2004   85       2.0              55.0           NaN           NaN\n",
      "2005   80       2.0              50.0           NaN           NaN\n",
      "2006   85       3.0              55.0           NaN           NaN\n",
      "2007   88       2.0              65.0           NaN           NaN\n",
      "2008   85       2.0              55.0           NaN           NaN\n",
      "2001   80       NaN               NaN           7.0          50.0\n",
      "2002   85       NaN               NaN           8.0          52.0\n",
      "2003   88       NaN               NaN           9.0          50.0\n",
      "2004   85       NaN               NaN           6.0          53.0\n"
     ]
    }
   ],
   "source": [
    "df4 = pd.concat([df1, df2, df3], sort=False)\n",
    "print(df4)"
   ]
  },
  {
   "cell_type": "code",
   "execution_count": 4,
   "metadata": {},
   "outputs": [
    {
     "name": "stdout",
     "output_type": "stream",
     "text": [
      "   HPI  Int_rate  US_GDP_Thousands\n",
      "0   80         2                50\n",
      "1   85         3                55\n",
      "2   88         2                65\n",
      "3   85         2                55\n"
     ]
    }
   ],
   "source": [
    "print(pd.merge(df1, df2))"
   ]
  },
  {
   "cell_type": "code",
   "execution_count": 5,
   "metadata": {},
   "outputs": [
    {
     "name": "stdout",
     "output_type": "stream",
     "text": [
      "   HPI  Int_rate  US_GDP_Thousands\n",
      "0   80         2                50\n",
      "1   85         3                55\n",
      "2   88         2                65\n",
      "3   85         2                55\n"
     ]
    }
   ],
   "source": [
    "print(pd.merge(df1, df2, on=['HPI','Int_rate', 'US_GDP_Thousands' ]))"
   ]
  },
  {
   "cell_type": "code",
   "execution_count": 7,
   "metadata": {},
   "outputs": [
    {
     "name": "stdout",
     "output_type": "stream",
     "text": [
      "   HPI  Int_rate_x  US_GDP_Thousands_x  Int_rate_y  US_GDP_Thousands_y\n",
      "0   80           2                  50           2                  50\n",
      "1   85           3                  55           3                  55\n",
      "2   85           3                  55           2                  55\n",
      "3   85           2                  55           3                  55\n",
      "4   85           2                  55           2                  55\n",
      "5   88           2                  65           2                  65\n"
     ]
    }
   ],
   "source": [
    "print(pd.merge(df1, df2, on='HPI'))"
   ]
  },
  {
   "cell_type": "code",
   "execution_count": 64,
   "metadata": {},
   "outputs": [
    {
     "name": "stdout",
     "output_type": "stream",
     "text": [
      "     Int_rate  US_GDP_Thousands  Unemployment  Low_tier_HPI\n",
      "HPI                                                        \n",
      "80          2                50             7            50\n",
      "85          3                55             8            52\n",
      "85          3                55             6            53\n",
      "85          2                55             8            52\n",
      "85          2                55             6            53\n",
      "88          2                65             9            50\n"
     ]
    }
   ],
   "source": [
    "df1.set_index('HPI', inplace=True)\n",
    "df3.set_index('HPI', inplace=True)\n",
    "\n",
    "joined = df1.join(df3)\n",
    "print(joined)"
   ]
  },
  {
   "cell_type": "code",
   "execution_count": 12,
   "metadata": {},
   "outputs": [
    {
     "name": "stdout",
     "output_type": "stream",
     "text": [
      "   Year  Int_rate  US_GDP_Thousands  Unemployment  Low_tier_HPI\n",
      "0  2001         2                50             7            50\n",
      "1  2003         2                65             8            52\n",
      "2  2004         2                55             9            50\n"
     ]
    }
   ],
   "source": [
    "df1 = pd.DataFrame({'Year':[2001, 2002, 2003, 2004],\n",
    "                    'Int_rate':[2, 3, 2, 2],\n",
    "                    'US_GDP_Thousands':[50, 55, 65, 55]},\n",
    "                  # index = [2001, 2002, 2003, 2004]\n",
    "                  )\n",
    "\n",
    "df3 = pd.DataFrame({'Year':[2001, 2003, 2004, 2005],\n",
    "                    'Unemployment':[7, 8, 9, 6],\n",
    "                    'Low_tier_HPI':[50, 52, 50, 53]},\n",
    "                  # index = [2001, 2002, 2003, 2004]\n",
    "                  )\n",
    "\n",
    "merged = pd.merge(df1, df3, on = 'Year')\n",
    "print(merged)"
   ]
  },
  {
   "cell_type": "code",
   "execution_count": 13,
   "metadata": {},
   "outputs": [
    {
     "name": "stdout",
     "output_type": "stream",
     "text": [
      "   Year  Int_rate  US_GDP_Thousands  Unemployment  Low_tier_HPI\n",
      "0  2001       2.0              50.0           7.0          50.0\n",
      "1  2002       3.0              55.0           NaN           NaN\n",
      "2  2003       2.0              65.0           8.0          52.0\n",
      "3  2004       2.0              55.0           9.0          50.0\n",
      "4  2005       NaN               NaN           6.0          53.0\n"
     ]
    }
   ],
   "source": [
    "# cfr. SQL: left/right/outer JOIN\n",
    "merged = pd.merge(df1, df3, on = 'Year', how='outer') # how = right / how = inner / how = left // standaard = inner\n",
    "#merged.set_index('Year', inplace = True)\n",
    "print(merged)"
   ]
  },
  {
   "cell_type": "code",
   "execution_count": null,
   "metadata": {},
   "outputs": [],
   "source": [
    "## wat zegt hij: non enumbered data??"
   ]
  },
  {
   "cell_type": "markdown",
   "metadata": {},
   "source": [
    "# Part 7 - Pickling"
   ]
  },
  {
   "cell_type": "code",
   "execution_count": 2,
   "metadata": {},
   "outputs": [],
   "source": [
    "import quandl # met kleine q!!\n",
    "import pandas as pd\n",
    "\n",
    "api_key='6y8S4s3s3xr9L-1_mUt2' # See account settings on Quandl\n",
    "fiddy_states = pd.read_html('https://simple.wikipedia.org/wiki/List_of_U.S._states')\n",
    "\n"
   ]
  },
  {
   "cell_type": "code",
   "execution_count": 1,
   "metadata": {},
   "outputs": [],
   "source": [
    "import quandl\n",
    "import pandas as pd\n",
    "\n",
    "api_key='6y8S4s3s3xr9L-1_mUt2' # See account settings on Quandl\n",
    "fiddy_states = pd.read_html('https://simple.wikipedia.org/wiki/List_of_U.S._states')\n",
    "\n",
    "main_df = pd.DataFrame()\n",
    "\n",
    "for abbv in fiddy_states[0][1][1:]:\n",
    "    query = \"FMAC/HPI_\"+str(abbv)\n",
    "    df = quandl.get(query, authtoken=api_key)\n",
    "\n",
    "    if main_df.empty:\n",
    "        main_df = df.add_suffix(query) # .add_suffix(query) toegevoegd om column overlap te vermijden!!\n",
    "    else:\n",
    "        main_df = main_df.join(df.add_suffix(query))"
   ]
  },
  {
   "cell_type": "code",
   "execution_count": 2,
   "metadata": {
    "collapsed": true
   },
   "outputs": [
    {
     "name": "stdout",
     "output_type": "stream",
     "text": [
      "            NSA ValueFMAC/HPI_AL  NSA ValueFMAC/HPI_AK  NSA ValueFMAC/HPI_AZ  \\\n",
      "Date                                                                           \n",
      "1975-01-31             35.719630             34.435277             28.896476   \n",
      "1975-02-28             35.910686             34.934265             29.389959   \n",
      "1975-03-31             36.134876             35.445754             29.852971   \n",
      "1975-04-30             36.408631             35.979852             30.207807   \n",
      "1975-05-31             36.650139             36.565534             30.381294   \n",
      "\n",
      "            NSA ValueFMAC/HPI_AR  NSA ValueFMAC/HPI_CA  NSA ValueFMAC/HPI_CO  \\\n",
      "Date                                                                           \n",
      "1975-01-31             37.088164             15.749933             19.751594   \n",
      "1975-02-28             37.376527             15.806386             19.941942   \n",
      "1975-03-31             37.616807             16.000094             20.140412   \n",
      "1975-04-30             37.807112             16.315258             20.342377   \n",
      "1975-05-31             38.003210             16.572235             20.522761   \n",
      "\n",
      "            NSA ValueFMAC/HPI_CT  NSA ValueFMAC/HPI_DE  NSA ValueFMAC/HPI_FL  \\\n",
      "Date                                                                           \n",
      "1975-01-31             24.616855             27.331346             30.928040   \n",
      "1975-02-28             25.057240             27.344788             32.174693   \n",
      "1975-03-31             25.382093             27.396819             33.977307   \n",
      "1975-04-30             25.564573             27.529517             36.150655   \n",
      "1975-05-31             25.629244             27.762463             36.326913   \n",
      "\n",
      "            NSA ValueFMAC/HPI_GA          ...           NSA ValueFMAC/HPI_SD  \\\n",
      "Date                                      ...                                  \n",
      "1975-01-31             30.774561          ...                      37.667776   \n",
      "1975-02-28             30.407473          ...                      37.240986   \n",
      "1975-03-31             30.227321          ...                      36.807764   \n",
      "1975-04-30             30.260036          ...                      36.377646   \n",
      "1975-05-31             30.374090          ...                      35.985708   \n",
      "\n",
      "            NSA ValueFMAC/HPI_TN  NSA ValueFMAC/HPI_TX  NSA ValueFMAC/HPI_UT  \\\n",
      "Date                                                                           \n",
      "1975-01-31             32.419458             32.676382             24.751941   \n",
      "1975-02-28             32.381817             32.983194             25.088363   \n",
      "1975-03-31             32.395182             33.549557             25.385555   \n",
      "1975-04-30             32.470160             34.388803             25.615826   \n",
      "1975-05-31             32.584139             34.627939             25.763432   \n",
      "\n",
      "            NSA ValueFMAC/HPI_VT  NSA ValueFMAC/HPI_VA  NSA ValueFMAC/HPI_WA  \\\n",
      "Date                                                                           \n",
      "1975-01-31             27.897845             27.831175             17.500273   \n",
      "1975-02-28             28.209763             28.142050             17.607171   \n",
      "1975-03-31             28.507548             28.363692             17.741687   \n",
      "1975-04-30             28.771321             28.520289             17.881484   \n",
      "1975-05-31             28.991828             28.661709             18.004269   \n",
      "\n",
      "            NSA ValueFMAC/HPI_WV  NSA ValueFMAC/HPI_WI  NSA ValueFMAC/HPI_WY  \n",
      "Date                                                                          \n",
      "1975-01-31             40.671059             27.838804             31.412373  \n",
      "1975-02-28             41.759545             28.239610             31.894238  \n",
      "1975-03-31             42.896149             28.637254             32.401878  \n",
      "1975-04-30             44.073773             28.993026             32.923142  \n",
      "1975-05-31             45.263243             29.283132             33.426704  \n",
      "\n",
      "[5 rows x 50 columns]\n"
     ]
    },
    {
     "data": {
      "text/plain": [
       "\"# Tweede manier: like \\nmain_df2 = main_df.filter(like='NSA Value',axis=1)\\nprint(main_df3.head(5))\\n\\n# Derde manier: columns.str.startswith (behoud huidig df)\\nunwanted = main_df.columns[main_df.columns.str.startswith('SA Value')]\\nmain_df.drop(unwanted, axis=1, inplace=True)\\nprint(main_df.head(5))\""
      ]
     },
     "execution_count": 2,
     "metadata": {},
     "output_type": "execute_result"
    }
   ],
   "source": [
    "# Eerste manier: regex\n",
    "main_df2 = main_df.filter(regex=(\"NSA Value.*\"), axis=1)\n",
    "print(main_df2.head(5))\n",
    "\n",
    "'''\n",
    "# Tweede manier: like \n",
    "main_df2 = main_df.filter(like='NSA Value',axis=1)\n",
    "print(main_df3.head(5))\n",
    "\n",
    "# Derde manier: columns.str.startswith (behoud huidig df)\n",
    "unwanted = main_df.columns[main_df.columns.str.startswith('SA Value')]\n",
    "main_df.drop(unwanted, axis=1, inplace=True)\n",
    "print(main_df.head(5))\n",
    "'''"
   ]
  },
  {
   "cell_type": "markdown",
   "metadata": {},
   "source": [
    "Nu gaan we bovenstaande in functies gieten, zodat het niet steeds opnieuw gerund moet worden.\n",
    "\n",
    "Daarna gebruiken we .pickle om gegevens in op te slaan en nadien opnieuw te lezen.\n",
    "\n",
    "SAMENGEVAT:\n",
    "* creëeren: HPI_data.to_pickle('bestandsnaam.pickle')\n",
    "* lezen: HPI_data2 = pd.read_pickle(bestandsnaam.pickle)\n"
   ]
  },
  {
   "cell_type": "code",
   "execution_count": 4,
   "metadata": {
    "collapsed": true
   },
   "outputs": [
    {
     "name": "stdout",
     "output_type": "stream",
     "text": [
      "            NSA ValueFMAC/HPI_AL  NSA ValueFMAC/HPI_AK  NSA ValueFMAC/HPI_AZ  \\\n",
      "Date                                                                           \n",
      "1975-01-31             35.719630             34.435277             28.896476   \n",
      "1975-02-28             35.910686             34.934265             29.389959   \n",
      "1975-03-31             36.134876             35.445754             29.852971   \n",
      "1975-04-30             36.408631             35.979852             30.207807   \n",
      "1975-05-31             36.650139             36.565534             30.381294   \n",
      "\n",
      "            NSA ValueFMAC/HPI_AR  NSA ValueFMAC/HPI_CA  NSA ValueFMAC/HPI_CO  \\\n",
      "Date                                                                           \n",
      "1975-01-31             37.088164             15.749933             19.751594   \n",
      "1975-02-28             37.376527             15.806386             19.941942   \n",
      "1975-03-31             37.616807             16.000094             20.140412   \n",
      "1975-04-30             37.807112             16.315258             20.342377   \n",
      "1975-05-31             38.003210             16.572235             20.522761   \n",
      "\n",
      "            NSA ValueFMAC/HPI_CT  NSA ValueFMAC/HPI_DE  NSA ValueFMAC/HPI_FL  \\\n",
      "Date                                                                           \n",
      "1975-01-31             24.616855             27.331346             30.928040   \n",
      "1975-02-28             25.057240             27.344788             32.174693   \n",
      "1975-03-31             25.382093             27.396819             33.977307   \n",
      "1975-04-30             25.564573             27.529517             36.150655   \n",
      "1975-05-31             25.629244             27.762463             36.326913   \n",
      "\n",
      "            NSA ValueFMAC/HPI_GA          ...           NSA ValueFMAC/HPI_SD  \\\n",
      "Date                                      ...                                  \n",
      "1975-01-31             30.774561          ...                      37.667776   \n",
      "1975-02-28             30.407473          ...                      37.240986   \n",
      "1975-03-31             30.227321          ...                      36.807764   \n",
      "1975-04-30             30.260036          ...                      36.377646   \n",
      "1975-05-31             30.374090          ...                      35.985708   \n",
      "\n",
      "            NSA ValueFMAC/HPI_TN  NSA ValueFMAC/HPI_TX  NSA ValueFMAC/HPI_UT  \\\n",
      "Date                                                                           \n",
      "1975-01-31             32.419458             32.676382             24.751941   \n",
      "1975-02-28             32.381817             32.983194             25.088363   \n",
      "1975-03-31             32.395182             33.549557             25.385555   \n",
      "1975-04-30             32.470160             34.388803             25.615826   \n",
      "1975-05-31             32.584139             34.627939             25.763432   \n",
      "\n",
      "            NSA ValueFMAC/HPI_VT  NSA ValueFMAC/HPI_VA  NSA ValueFMAC/HPI_WA  \\\n",
      "Date                                                                           \n",
      "1975-01-31             27.897845             27.831175             17.500273   \n",
      "1975-02-28             28.209763             28.142050             17.607171   \n",
      "1975-03-31             28.507548             28.363692             17.741687   \n",
      "1975-04-30             28.771321             28.520289             17.881484   \n",
      "1975-05-31             28.991828             28.661709             18.004269   \n",
      "\n",
      "            NSA ValueFMAC/HPI_WV  NSA ValueFMAC/HPI_WI  NSA ValueFMAC/HPI_WY  \n",
      "Date                                                                          \n",
      "1975-01-31             40.671059             27.838804             31.412373  \n",
      "1975-02-28             41.759545             28.239610             31.894238  \n",
      "1975-03-31             42.896149             28.637254             32.401878  \n",
      "1975-04-30             44.073773             28.993026             32.923142  \n",
      "1975-05-31             45.263243             29.283132             33.426704  \n",
      "\n",
      "[5 rows x 50 columns]\n"
     ]
    }
   ],
   "source": [
    "import pickle # save variable, list, dictionary, dataframe, machine learning classifier\n",
    "\n",
    "def state_list():\n",
    "    fiddy_states = pd.read_html('https://simple.wikipedia.org/wiki/List_of_U.S._states')\n",
    "    return fiddy_states[0][1][1:]\n",
    "\n",
    "\n",
    "def grab_initial_state_data():\n",
    "    states = state_list()\n",
    "    main_df = pd.DataFrame()\n",
    "\n",
    "    for abbv in states:\n",
    "        query = \"FMAC/HPI_\"+str(abbv)\n",
    "        df = quandl.get(query, authtoken=api_key)\n",
    "\n",
    "        if main_df.empty:\n",
    "            main_df = df.add_suffix(query) # .add_suffix(query) toegevoegd om column overlap te vermijden!!\n",
    "        else:\n",
    "            main_df = main_df.join(df.add_suffix(query))\n",
    "\n",
    "\n",
    "    # Filteren op kolommen: via regex\n",
    "    main_df2 = main_df.filter(regex=(\"NSA Value.*\"), axis=1)\n",
    "    print(main_df2.head())\n",
    "\n",
    "    # Eerste manier creatie pickle bestand\n",
    "    pickle_out = open('fiddy_states.pickle', 'wb') # wb = write bites // pickle bestand creëeren\n",
    "    pickle.dump(main_df2, pickle_out) # dump data in bestand\n",
    "    pickle_out.close() # sluit bestand\n",
    "\n",
    "grab_initial_state_data()"
   ]
  },
  {
   "cell_type": "code",
   "execution_count": null,
   "metadata": {},
   "outputs": [],
   "source": [
    "# first comment out the running of the definition and then...\n",
    "# open (.pickle, 'rb') / pickle.load() /\n",
    "\n",
    "pickle_in = open('fiddy_states.pickle', 'rb') # read bites // pickle bestand lezen\n",
    "HPI_data = pickle.load(pickle_in)\n",
    "print(HPI_data)"
   ]
  },
  {
   "cell_type": "code",
   "execution_count": null,
   "metadata": {},
   "outputs": [],
   "source": [
    "# Tweede manier om pickle bestand te creëeren + lezen\n",
    "main_df2.to_pickle('fiddy_states.pickle') # pickle bestand creëeren\n",
    "HPI_data2 = .read_pickle(pickle.pickle) # pickle bestand lezen"
   ]
  },
  {
   "cell_type": "markdown",
   "metadata": {},
   "source": [
    "# Part 8 - Percent change and correlation"
   ]
  },
  {
   "cell_type": "markdown",
   "metadata": {},
   "source": [
    "1) Modifying columns + entire dataframe\n",
    "\n",
    "2) plotting\n",
    "\n",
    "Matplotlib is a Python 2D plotting library which produces publication quality figures in a variety of hardcopy formats and interactive environments across platforms. \n",
    "\n",
    "matplotlib.pyplot is a collection of command style functions that make matplotlib work like MATLAB. "
   ]
  },
  {
   "cell_type": "code",
   "execution_count": null,
   "metadata": {},
   "outputs": [],
   "source": []
  }
 ],
 "metadata": {
  "kernelspec": {
   "display_name": "Python 3",
   "language": "python",
   "name": "python3"
  },
  "language_info": {
   "codemirror_mode": {
    "name": "ipython",
    "version": 3
   },
   "file_extension": ".py",
   "mimetype": "text/x-python",
   "name": "python",
   "nbconvert_exporter": "python",
   "pygments_lexer": "ipython3",
   "version": "3.6.5"
  }
 },
 "nbformat": 4,
 "nbformat_minor": 2
}
